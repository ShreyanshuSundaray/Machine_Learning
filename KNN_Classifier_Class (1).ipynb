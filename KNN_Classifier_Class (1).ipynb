{
 "cells": [
  {
   "cell_type": "code",
   "execution_count": 1,
   "id": "642e1102",
   "metadata": {},
   "outputs": [],
   "source": [
    "import pandas as pd,numpy as np,math\n",
    "from collections import Counter\n",
    "from sklearn.model_selection import train_test_split\n",
    "\n"
   ]
  },
  {
   "cell_type": "code",
   "execution_count": 6,
   "id": "022fec44",
   "metadata": {},
   "outputs": [],
   "source": [
    "df = pd.DataFrame({'num':[1,3,10,-1,-6,20,4,30,40,-10,7,2,-5,9,35],\n",
    "                   'cat':['R','B','R','R','G','B','G','B','R','G','G','R','G','B','B']})"
   ]
  },
  {
   "cell_type": "code",
   "execution_count": 7,
   "id": "df0eb6e2",
   "metadata": {},
   "outputs": [
    {
     "data": {
      "text/html": [
       "<div>\n",
       "<style scoped>\n",
       "    .dataframe tbody tr th:only-of-type {\n",
       "        vertical-align: middle;\n",
       "    }\n",
       "\n",
       "    .dataframe tbody tr th {\n",
       "        vertical-align: top;\n",
       "    }\n",
       "\n",
       "    .dataframe thead th {\n",
       "        text-align: right;\n",
       "    }\n",
       "</style>\n",
       "<table border=\"1\" class=\"dataframe\">\n",
       "  <thead>\n",
       "    <tr style=\"text-align: right;\">\n",
       "      <th></th>\n",
       "      <th>num</th>\n",
       "      <th>cat</th>\n",
       "    </tr>\n",
       "  </thead>\n",
       "  <tbody>\n",
       "    <tr>\n",
       "      <th>0</th>\n",
       "      <td>1</td>\n",
       "      <td>R</td>\n",
       "    </tr>\n",
       "    <tr>\n",
       "      <th>1</th>\n",
       "      <td>3</td>\n",
       "      <td>B</td>\n",
       "    </tr>\n",
       "    <tr>\n",
       "      <th>2</th>\n",
       "      <td>10</td>\n",
       "      <td>R</td>\n",
       "    </tr>\n",
       "    <tr>\n",
       "      <th>3</th>\n",
       "      <td>-1</td>\n",
       "      <td>R</td>\n",
       "    </tr>\n",
       "    <tr>\n",
       "      <th>4</th>\n",
       "      <td>-6</td>\n",
       "      <td>G</td>\n",
       "    </tr>\n",
       "  </tbody>\n",
       "</table>\n",
       "</div>"
      ],
      "text/plain": [
       "   num cat\n",
       "0    1   R\n",
       "1    3   B\n",
       "2   10   R\n",
       "3   -1   R\n",
       "4   -6   G"
      ]
     },
     "execution_count": 7,
     "metadata": {},
     "output_type": "execute_result"
    }
   ],
   "source": [
    "df.head()"
   ]
  },
  {
   "cell_type": "code",
   "execution_count": 9,
   "id": "e7e4ea0e",
   "metadata": {},
   "outputs": [],
   "source": [
    "# Spliting the data into train and test\n",
    "\n",
    "x=df['num']\n",
    "y=df['cat']\n",
    "\n",
    "xtrain,xtest,ytrain,ytest = train_test_split(x,y,test_size=0.3)"
   ]
  },
  {
   "cell_type": "code",
   "execution_count": null,
   "id": "eee14781",
   "metadata": {},
   "outputs": [],
   "source": []
  },
  {
   "cell_type": "code",
   "execution_count": 8,
   "id": "727d300b",
   "metadata": {},
   "outputs": [],
   "source": [
    "class KnnClassifier:                  # Created a class named KnnClassifier\n",
    "    def __init__(self,k):             # Defining a parameter as k which the user can choose randomly\n",
    "        self.k = k\n",
    "        \n",
    "    def fit(self, x, y):              # Defining 2 parameters for where we give the input as xTrain and yTrain to fit the data\n",
    "        self.X_train = x\n",
    "        self.y_train = y\n",
    "    \n",
    "    # This below function is to calculate distance betn two points. Here is a parameter 'p' by which we can change the\n",
    "    # formulas as (p=2 'Euclidiean's Distance), (p=n,'Mnkowski Distance'). We will use this function further in this class.\n",
    "    \n",
    "    def lp_norm(self, v1, v2,p):      \n",
    "        distance = (abs(np.sum((v1 - v2) ** p))) ** 1/p    # This calculation is simmilar to 'Lp_Norm' formula\n",
    "        return distance\n",
    "    \n",
    "    # This function we will use to predict the y-value for xTest using XTrain and yTrain\n",
    "    \n",
    "    def predict(self, x,p):        # Here 'x' is xTest value which we gonna pass\n",
    "        predictions = []\n",
    "        \n",
    "        for i in range(len(x)):           # we have to calculate the distance from one point of xTest data to every point of xTrain data and so on that's why we have taken 2 for loops\n",
    "            distances = []                  \n",
    "            for j in range(len(self.X_train)):\n",
    "                distance = self.lp_norm(x.iloc[i], self.X_train.iloc[j],p) #  in this line first it will take 1st index position of xTest as param-1 and xTrain as param-2 then it call the function lp_norm                                                                                       \n",
    "                distances.append((distance,j))                           # xTest value remains same and xTrain keep on iteraing till his last element then Xtest become 2 and the same process going on\n",
    "            \n",
    "            distances.sort(key=lambda x: x[0])       # We are appending the distances with index values as tuple then sorting only the distances in asc order\n",
    "                                                                                    \n",
    "                                                # After sorting we have to take 'k' values from yTrain that's why in this line we are taking\n",
    "        \n",
    "            index =[]\n",
    "            for t in distances[:self.k]:          # we are taking the index positions of sorted distances from distances\n",
    "                index.append(t[1])\n",
    "                \n",
    "            labels =[]\n",
    "            for i in index:                           # Here we are taking the xTrain values comapring with index positions\n",
    "                labels.append(self.y_train.iloc[i])\n",
    "            \n",
    "\n",
    "# here we are finding most common element using Counter library the accessing the 1st element it will givw output as tuple with (labels ,counts)\n",
    "# In this step we are accessing only label using index values 1st '0' will give a tuple the 2nd '0' will give 11st index of the tuple\n",
    "# Which is the lable value only\n",
    "            most_common = Counter(labels).most_common(1)   \n",
    "            predictions.append(most_common[0][0])           \n",
    "                                                         # Which is the lable value only\n",
    "        return predictions"
   ]
  },
  {
   "cell_type": "code",
   "execution_count": null,
   "id": "98de8db2",
   "metadata": {},
   "outputs": [],
   "source": []
  },
  {
   "cell_type": "code",
   "execution_count": 25,
   "id": "4494c9ad",
   "metadata": {},
   "outputs": [],
   "source": [
    "knn = KnnClassifier(3)    # Creating an object for the class with k value as 3\n",
    "\n",
    "knn.fit(xtrain, ytrain)     # Then fit data xTrain and yTrain using fit function of KnnClassifier class \n",
    "predictions = knn.predict(xtest,2)     # Then Predicting the values of xTest using Euclidean formula"
   ]
  },
  {
   "cell_type": "code",
   "execution_count": 26,
   "id": "f8186733",
   "metadata": {},
   "outputs": [
    {
     "data": {
      "text/plain": [
       "['G', 'B', 'R', 'G', 'G']"
      ]
     },
     "execution_count": 26,
     "metadata": {},
     "output_type": "execute_result"
    }
   ],
   "source": [
    "predictions"
   ]
  },
  {
   "cell_type": "code",
   "execution_count": 27,
   "id": "f22fabdd",
   "metadata": {},
   "outputs": [
    {
     "data": {
      "text/plain": [
       "2     10\n",
       "11     2\n",
       "3     -1\n",
       "12    -5\n",
       "4     -6\n",
       "Name: num, dtype: int64"
      ]
     },
     "execution_count": 27,
     "metadata": {},
     "output_type": "execute_result"
    }
   ],
   "source": [
    "xtest"
   ]
  },
  {
   "cell_type": "code",
   "execution_count": null,
   "id": "87ff8d73",
   "metadata": {},
   "outputs": [],
   "source": []
  },
  {
   "cell_type": "code",
   "execution_count": null,
   "id": "37342287",
   "metadata": {},
   "outputs": [],
   "source": []
  }
 ],
 "metadata": {
  "kernelspec": {
   "display_name": "Python 3 (ipykernel)",
   "language": "python",
   "name": "python3"
  },
  "language_info": {
   "codemirror_mode": {
    "name": "ipython",
    "version": 3
   },
   "file_extension": ".py",
   "mimetype": "text/x-python",
   "name": "python",
   "nbconvert_exporter": "python",
   "pygments_lexer": "ipython3",
   "version": "3.9.13"
  }
 },
 "nbformat": 4,
 "nbformat_minor": 5
}
