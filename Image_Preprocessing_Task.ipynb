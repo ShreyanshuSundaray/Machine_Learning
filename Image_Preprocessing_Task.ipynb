{
 "cells": [
  {
   "cell_type": "markdown",
   "id": "66929da4",
   "metadata": {},
   "source": [
    "## Importing Required Libraries"
   ]
  },
  {
   "cell_type": "code",
   "execution_count": 1,
   "id": "bc0623b3",
   "metadata": {},
   "outputs": [],
   "source": [
    "import pandas as pd, numpy as np, seaborn as sns, matplotlib.pyplot as plt\n",
    "import sklearn\n",
    "import os\n",
    "import PIL\n",
    "\n",
    "from matplotlib import image\n",
    "from PIL import Image\n",
    "from PIL import ImageDraw, ImageFont\n",
    "from PIL import ImageEnhance\n",
    "from PIL import ImageFilter\n"
   ]
  },
  {
   "cell_type": "markdown",
   "id": "80fa5b4d",
   "metadata": {},
   "source": [
    "## Preprocessing"
   ]
  },
  {
   "cell_type": "code",
   "execution_count": 25,
   "id": "7228d198",
   "metadata": {},
   "outputs": [],
   "source": [
    "animals = ['donkeys','Horses']\n",
    "\n",
    "for i in animals:\n",
    "    folder_dir = (r\"C:\\Users\\sreya\\OneDrive\\venom\\Image\\{}\".format(i))\n",
    "    \n",
    "    for j in os.listdir(folder_dir):\n",
    "        \n",
    "        if i == \"donkeys\":\n",
    "            imagePil = Image.open(f\"{folder_dir}\\{j}\")\n",
    "            imageResized = imagePil.resize((32,32))\n",
    "            imageColE = ImageEnhance.Color(imageResized)\n",
    "            gray_image = imageColE.enhance(0)\n",
    "            gray_image.save(r\"C:\\Users\\sreya\\OneDrive\\venom\\pictures\\mules\\{}.jpg\".format(j))\n",
    "          \n",
    "        \n",
    "        elif i == \"Horses\":\n",
    "            imagePil = Image.open(f\"{folder_dir}\\{j}\")\n",
    "            imageResized = imagePil.resize((32,32))\n",
    "            imageColE = ImageEnhance.Color(imageResized)\n",
    "            gray_image = imageColE.enhance(0)\n",
    "            gray_image.save(r\"C:\\Users\\sreya\\OneDrive\\venom\\pictures\\horses\\{}.jpg\".format(j))"
   ]
  },
  {
   "cell_type": "code",
   "execution_count": 12,
   "id": "cef3d6c0",
   "metadata": {},
   "outputs": [],
   "source": [
    " "
   ]
  },
  {
   "cell_type": "markdown",
   "id": "f4078ca9",
   "metadata": {},
   "source": [
    "## Converting to DataFrames"
   ]
  },
  {
   "cell_type": "code",
   "execution_count": 31,
   "id": "4bbfb9da",
   "metadata": {},
   "outputs": [
    {
     "data": {
      "text/html": [
       "<div>\n",
       "<style scoped>\n",
       "    .dataframe tbody tr th:only-of-type {\n",
       "        vertical-align: middle;\n",
       "    }\n",
       "\n",
       "    .dataframe tbody tr th {\n",
       "        vertical-align: top;\n",
       "    }\n",
       "\n",
       "    .dataframe thead th {\n",
       "        text-align: right;\n",
       "    }\n",
       "</style>\n",
       "<table border=\"1\" class=\"dataframe\">\n",
       "  <thead>\n",
       "    <tr style=\"text-align: right;\">\n",
       "      <th></th>\n",
       "      <th>0</th>\n",
       "      <th>1</th>\n",
       "      <th>2</th>\n",
       "      <th>3</th>\n",
       "      <th>4</th>\n",
       "      <th>5</th>\n",
       "      <th>6</th>\n",
       "      <th>7</th>\n",
       "      <th>8</th>\n",
       "      <th>9</th>\n",
       "      <th>...</th>\n",
       "      <th>3063</th>\n",
       "      <th>3064</th>\n",
       "      <th>3065</th>\n",
       "      <th>3066</th>\n",
       "      <th>3067</th>\n",
       "      <th>3068</th>\n",
       "      <th>3069</th>\n",
       "      <th>3070</th>\n",
       "      <th>3071</th>\n",
       "      <th>animal</th>\n",
       "    </tr>\n",
       "  </thead>\n",
       "  <tbody>\n",
       "    <tr>\n",
       "      <th>0</th>\n",
       "      <td>97</td>\n",
       "      <td>97</td>\n",
       "      <td>97</td>\n",
       "      <td>84</td>\n",
       "      <td>84</td>\n",
       "      <td>84</td>\n",
       "      <td>78</td>\n",
       "      <td>78</td>\n",
       "      <td>78</td>\n",
       "      <td>84</td>\n",
       "      <td>...</td>\n",
       "      <td>116</td>\n",
       "      <td>116</td>\n",
       "      <td>116</td>\n",
       "      <td>117</td>\n",
       "      <td>117</td>\n",
       "      <td>117</td>\n",
       "      <td>117</td>\n",
       "      <td>117</td>\n",
       "      <td>117</td>\n",
       "      <td>mules</td>\n",
       "    </tr>\n",
       "    <tr>\n",
       "      <th>1</th>\n",
       "      <td>124</td>\n",
       "      <td>124</td>\n",
       "      <td>124</td>\n",
       "      <td>99</td>\n",
       "      <td>99</td>\n",
       "      <td>99</td>\n",
       "      <td>104</td>\n",
       "      <td>104</td>\n",
       "      <td>104</td>\n",
       "      <td>97</td>\n",
       "      <td>...</td>\n",
       "      <td>135</td>\n",
       "      <td>135</td>\n",
       "      <td>135</td>\n",
       "      <td>110</td>\n",
       "      <td>110</td>\n",
       "      <td>110</td>\n",
       "      <td>140</td>\n",
       "      <td>140</td>\n",
       "      <td>140</td>\n",
       "      <td>mules</td>\n",
       "    </tr>\n",
       "    <tr>\n",
       "      <th>2</th>\n",
       "      <td>126</td>\n",
       "      <td>126</td>\n",
       "      <td>126</td>\n",
       "      <td>135</td>\n",
       "      <td>135</td>\n",
       "      <td>135</td>\n",
       "      <td>134</td>\n",
       "      <td>134</td>\n",
       "      <td>134</td>\n",
       "      <td>119</td>\n",
       "      <td>...</td>\n",
       "      <td>135</td>\n",
       "      <td>135</td>\n",
       "      <td>135</td>\n",
       "      <td>151</td>\n",
       "      <td>151</td>\n",
       "      <td>151</td>\n",
       "      <td>172</td>\n",
       "      <td>172</td>\n",
       "      <td>172</td>\n",
       "      <td>mules</td>\n",
       "    </tr>\n",
       "    <tr>\n",
       "      <th>3</th>\n",
       "      <td>159</td>\n",
       "      <td>159</td>\n",
       "      <td>159</td>\n",
       "      <td>161</td>\n",
       "      <td>161</td>\n",
       "      <td>161</td>\n",
       "      <td>169</td>\n",
       "      <td>169</td>\n",
       "      <td>169</td>\n",
       "      <td>165</td>\n",
       "      <td>...</td>\n",
       "      <td>183</td>\n",
       "      <td>183</td>\n",
       "      <td>183</td>\n",
       "      <td>176</td>\n",
       "      <td>176</td>\n",
       "      <td>176</td>\n",
       "      <td>150</td>\n",
       "      <td>150</td>\n",
       "      <td>150</td>\n",
       "      <td>mules</td>\n",
       "    </tr>\n",
       "    <tr>\n",
       "      <th>4</th>\n",
       "      <td>138</td>\n",
       "      <td>138</td>\n",
       "      <td>138</td>\n",
       "      <td>99</td>\n",
       "      <td>99</td>\n",
       "      <td>99</td>\n",
       "      <td>68</td>\n",
       "      <td>68</td>\n",
       "      <td>68</td>\n",
       "      <td>84</td>\n",
       "      <td>...</td>\n",
       "      <td>88</td>\n",
       "      <td>88</td>\n",
       "      <td>88</td>\n",
       "      <td>94</td>\n",
       "      <td>94</td>\n",
       "      <td>94</td>\n",
       "      <td>109</td>\n",
       "      <td>109</td>\n",
       "      <td>109</td>\n",
       "      <td>mules</td>\n",
       "    </tr>\n",
       "    <tr>\n",
       "      <th>...</th>\n",
       "      <td>...</td>\n",
       "      <td>...</td>\n",
       "      <td>...</td>\n",
       "      <td>...</td>\n",
       "      <td>...</td>\n",
       "      <td>...</td>\n",
       "      <td>...</td>\n",
       "      <td>...</td>\n",
       "      <td>...</td>\n",
       "      <td>...</td>\n",
       "      <td>...</td>\n",
       "      <td>...</td>\n",
       "      <td>...</td>\n",
       "      <td>...</td>\n",
       "      <td>...</td>\n",
       "      <td>...</td>\n",
       "      <td>...</td>\n",
       "      <td>...</td>\n",
       "      <td>...</td>\n",
       "      <td>...</td>\n",
       "      <td>...</td>\n",
       "    </tr>\n",
       "    <tr>\n",
       "      <th>2011</th>\n",
       "      <td>185</td>\n",
       "      <td>185</td>\n",
       "      <td>185</td>\n",
       "      <td>185</td>\n",
       "      <td>185</td>\n",
       "      <td>185</td>\n",
       "      <td>185</td>\n",
       "      <td>185</td>\n",
       "      <td>185</td>\n",
       "      <td>185</td>\n",
       "      <td>...</td>\n",
       "      <td>203</td>\n",
       "      <td>203</td>\n",
       "      <td>203</td>\n",
       "      <td>211</td>\n",
       "      <td>211</td>\n",
       "      <td>211</td>\n",
       "      <td>205</td>\n",
       "      <td>205</td>\n",
       "      <td>205</td>\n",
       "      <td>horses</td>\n",
       "    </tr>\n",
       "    <tr>\n",
       "      <th>2012</th>\n",
       "      <td>49</td>\n",
       "      <td>49</td>\n",
       "      <td>49</td>\n",
       "      <td>49</td>\n",
       "      <td>49</td>\n",
       "      <td>49</td>\n",
       "      <td>47</td>\n",
       "      <td>47</td>\n",
       "      <td>47</td>\n",
       "      <td>47</td>\n",
       "      <td>...</td>\n",
       "      <td>88</td>\n",
       "      <td>88</td>\n",
       "      <td>88</td>\n",
       "      <td>108</td>\n",
       "      <td>108</td>\n",
       "      <td>108</td>\n",
       "      <td>124</td>\n",
       "      <td>124</td>\n",
       "      <td>124</td>\n",
       "      <td>horses</td>\n",
       "    </tr>\n",
       "    <tr>\n",
       "      <th>2013</th>\n",
       "      <td>58</td>\n",
       "      <td>58</td>\n",
       "      <td>58</td>\n",
       "      <td>56</td>\n",
       "      <td>56</td>\n",
       "      <td>56</td>\n",
       "      <td>52</td>\n",
       "      <td>52</td>\n",
       "      <td>52</td>\n",
       "      <td>47</td>\n",
       "      <td>...</td>\n",
       "      <td>198</td>\n",
       "      <td>198</td>\n",
       "      <td>198</td>\n",
       "      <td>221</td>\n",
       "      <td>221</td>\n",
       "      <td>221</td>\n",
       "      <td>211</td>\n",
       "      <td>211</td>\n",
       "      <td>211</td>\n",
       "      <td>horses</td>\n",
       "    </tr>\n",
       "    <tr>\n",
       "      <th>2014</th>\n",
       "      <td>114</td>\n",
       "      <td>114</td>\n",
       "      <td>114</td>\n",
       "      <td>142</td>\n",
       "      <td>142</td>\n",
       "      <td>142</td>\n",
       "      <td>176</td>\n",
       "      <td>176</td>\n",
       "      <td>176</td>\n",
       "      <td>221</td>\n",
       "      <td>...</td>\n",
       "      <td>60</td>\n",
       "      <td>60</td>\n",
       "      <td>60</td>\n",
       "      <td>63</td>\n",
       "      <td>63</td>\n",
       "      <td>63</td>\n",
       "      <td>58</td>\n",
       "      <td>58</td>\n",
       "      <td>58</td>\n",
       "      <td>horses</td>\n",
       "    </tr>\n",
       "    <tr>\n",
       "      <th>2015</th>\n",
       "      <td>193</td>\n",
       "      <td>193</td>\n",
       "      <td>193</td>\n",
       "      <td>186</td>\n",
       "      <td>186</td>\n",
       "      <td>186</td>\n",
       "      <td>188</td>\n",
       "      <td>188</td>\n",
       "      <td>188</td>\n",
       "      <td>200</td>\n",
       "      <td>...</td>\n",
       "      <td>55</td>\n",
       "      <td>55</td>\n",
       "      <td>55</td>\n",
       "      <td>50</td>\n",
       "      <td>50</td>\n",
       "      <td>50</td>\n",
       "      <td>70</td>\n",
       "      <td>70</td>\n",
       "      <td>70</td>\n",
       "      <td>horses</td>\n",
       "    </tr>\n",
       "  </tbody>\n",
       "</table>\n",
       "<p>2016 rows × 3073 columns</p>\n",
       "</div>"
      ],
      "text/plain": [
       "        0    1    2    3    4    5    6    7    8    9  ... 3063 3064 3065  \\\n",
       "0      97   97   97   84   84   84   78   78   78   84  ...  116  116  116   \n",
       "1     124  124  124   99   99   99  104  104  104   97  ...  135  135  135   \n",
       "2     126  126  126  135  135  135  134  134  134  119  ...  135  135  135   \n",
       "3     159  159  159  161  161  161  169  169  169  165  ...  183  183  183   \n",
       "4     138  138  138   99   99   99   68   68   68   84  ...   88   88   88   \n",
       "...   ...  ...  ...  ...  ...  ...  ...  ...  ...  ...  ...  ...  ...  ...   \n",
       "2011  185  185  185  185  185  185  185  185  185  185  ...  203  203  203   \n",
       "2012   49   49   49   49   49   49   47   47   47   47  ...   88   88   88   \n",
       "2013   58   58   58   56   56   56   52   52   52   47  ...  198  198  198   \n",
       "2014  114  114  114  142  142  142  176  176  176  221  ...   60   60   60   \n",
       "2015  193  193  193  186  186  186  188  188  188  200  ...   55   55   55   \n",
       "\n",
       "     3066 3067 3068 3069 3070 3071  animal  \n",
       "0     117  117  117  117  117  117   mules  \n",
       "1     110  110  110  140  140  140   mules  \n",
       "2     151  151  151  172  172  172   mules  \n",
       "3     176  176  176  150  150  150   mules  \n",
       "4      94   94   94  109  109  109   mules  \n",
       "...   ...  ...  ...  ...  ...  ...     ...  \n",
       "2011  211  211  211  205  205  205  horses  \n",
       "2012  108  108  108  124  124  124  horses  \n",
       "2013  221  221  221  211  211  211  horses  \n",
       "2014   63   63   63   58   58   58  horses  \n",
       "2015   50   50   50   70   70   70  horses  \n",
       "\n",
       "[2016 rows x 3073 columns]"
      ]
     },
     "execution_count": 31,
     "metadata": {},
     "output_type": "execute_result"
    }
   ],
   "source": [
    "animals = ['mules','horses']\n",
    "list_np = []\n",
    "\n",
    "\n",
    "for i in animals:\n",
    "    folder_path = (r\"C:\\Users\\sreya\\OneDrive\\venom\\pictures\\{}\".format(i))\n",
    "    \n",
    "    for j in os.listdir(folder_path):\n",
    "        image = Image.open(f\"{folder_path}\\{j}\")\n",
    "        imageNp = np.array(image)\n",
    "        image_flatten = imageNp.flatten()\n",
    "        \n",
    "        list_np.append(np.append(image_flatten,i))\n",
    " \n",
    "\n",
    "data = pd.DataFrame(list_np,dtype=object)\n",
    "data.rename(columns = {3072:'animal'}, inplace = True)\n",
    "data\n",
    "        "
   ]
  },
  {
   "cell_type": "code",
   "execution_count": null,
   "id": "8159db4f",
   "metadata": {},
   "outputs": [],
   "source": []
  },
  {
   "cell_type": "markdown",
   "id": "1294c123",
   "metadata": {},
   "source": [
    "## Creating a logistic Regression Model"
   ]
  },
  {
   "cell_type": "code",
   "execution_count": 33,
   "id": "e2b90d87",
   "metadata": {},
   "outputs": [],
   "source": [
    "## Defining X and Y\n",
    "\n",
    "x = data.iloc[:,:-1]\n",
    "y = data['animal']"
   ]
  },
  {
   "cell_type": "code",
   "execution_count": 34,
   "id": "6576ccbb",
   "metadata": {},
   "outputs": [
    {
     "data": {
      "text/plain": [
       "((1370, 3072), (646, 3072), 1370, 646)"
      ]
     },
     "execution_count": 34,
     "metadata": {},
     "output_type": "execute_result"
    }
   ],
   "source": [
    "# Spliting the data into train and test\n",
    "\n",
    "from sklearn.model_selection import train_test_split\n",
    "\n",
    "xTrain, xTest, yTrain, yTest = train_test_split(x,y,\n",
    "                                                test_size= 0.32)\n",
    "\n",
    "xTrain.shape, xTest.shape, len(yTrain), len(yTest)"
   ]
  },
  {
   "cell_type": "code",
   "execution_count": 37,
   "id": "830bdbf6",
   "metadata": {},
   "outputs": [
    {
     "name": "stderr",
     "output_type": "stream",
     "text": [
      "C:\\Users\\sreya\\anaconda3\\lib\\site-packages\\sklearn\\linear_model\\_logistic.py:814: ConvergenceWarning: lbfgs failed to converge (status=1):\n",
      "STOP: TOTAL NO. of ITERATIONS REACHED LIMIT.\n",
      "\n",
      "Increase the number of iterations (max_iter) or scale the data as shown in:\n",
      "    https://scikit-learn.org/stable/modules/preprocessing.html\n",
      "Please also refer to the documentation for alternative solver options:\n",
      "    https://scikit-learn.org/stable/modules/linear_model.html#logistic-regression\n",
      "  n_iter_i = _check_optimize_result(\n"
     ]
    },
    {
     "data": {
      "text/plain": [
       "LogisticRegression(max_iter=6000)"
      ]
     },
     "execution_count": 37,
     "metadata": {},
     "output_type": "execute_result"
    }
   ],
   "source": [
    "from sklearn.linear_model import LogisticRegression\n",
    "from sklearn.metrics import accuracy_score as acs\n",
    "from sklearn.metrics import confusion_matrix\n",
    "\n",
    "\n",
    "# Training the model\n",
    "LR = LogisticRegression(max_iter=6000)\n",
    "LR.fit(xTrain,yTrain)"
   ]
  },
  {
   "cell_type": "code",
   "execution_count": 38,
   "id": "79aacce3",
   "metadata": {},
   "outputs": [
    {
     "data": {
      "text/plain": [
       "(1.0, 0.5092879256965944)"
      ]
     },
     "execution_count": 38,
     "metadata": {},
     "output_type": "execute_result"
    }
   ],
   "source": [
    "# Predicting the values\n",
    "\n",
    "lr_yTrainPred = LR.predict(xTrain)\n",
    "lr_yTestPred = LR.predict(xTest)\n",
    "\n",
    "## Checking the accuracy score\n",
    "acs(yTrain,lr_yTrainPred), acs(yTest,lr_yTestPred)"
   ]
  },
  {
   "cell_type": "code",
   "execution_count": null,
   "id": "4002af9d",
   "metadata": {},
   "outputs": [],
   "source": []
  },
  {
   "cell_type": "code",
   "execution_count": 39,
   "id": "bc492b4a",
   "metadata": {},
   "outputs": [
    {
     "data": {
      "text/plain": [
       "(array([[719,   0],\n",
       "        [  0, 651]], dtype=int64),\n",
       " array([[177, 150],\n",
       "        [167, 152]], dtype=int64))"
      ]
     },
     "execution_count": 39,
     "metadata": {},
     "output_type": "execute_result"
    }
   ],
   "source": [
    "## Checking the confusion matrix\n",
    "\n",
    "confusion_matrix(yTrain,lr_yTrainPred), confusion_matrix(yTest,lr_yTestPred)"
   ]
  },
  {
   "cell_type": "code",
   "execution_count": null,
   "id": "ded59940",
   "metadata": {},
   "outputs": [],
   "source": []
  },
  {
   "cell_type": "markdown",
   "id": "61f9f0f4",
   "metadata": {},
   "source": [
    "## Creating a Decision Tree model "
   ]
  },
  {
   "cell_type": "code",
   "execution_count": 40,
   "id": "dd47bdc2",
   "metadata": {},
   "outputs": [
    {
     "data": {
      "text/plain": [
       "DecisionTreeClassifier()"
      ]
     },
     "execution_count": 40,
     "metadata": {},
     "output_type": "execute_result"
    }
   ],
   "source": [
    "from sklearn.tree import DecisionTreeClassifier\n",
    "\n",
    "dtc = DecisionTreeClassifier()\n",
    "dtc.fit(xTrain,yTrain)"
   ]
  },
  {
   "cell_type": "code",
   "execution_count": 41,
   "id": "47cf804e",
   "metadata": {},
   "outputs": [
    {
     "data": {
      "text/plain": [
       "(1.0, 0.5371517027863777)"
      ]
     },
     "execution_count": 41,
     "metadata": {},
     "output_type": "execute_result"
    }
   ],
   "source": [
    "dtc_yTrainPred = dtc.predict(xTrain)\n",
    "dtc_yTestPred = dtc.predict(xTest)\n",
    "\n",
    "## Checking the accuracy score\n",
    "acs(yTrain,dtc_yTrainPred), acs(yTest,dtc_yTestPred)"
   ]
  },
  {
   "cell_type": "code",
   "execution_count": 42,
   "id": "716eca70",
   "metadata": {},
   "outputs": [
    {
     "data": {
      "text/plain": [
       "(array([[719,   0],\n",
       "        [  0, 651]], dtype=int64),\n",
       " array([[185, 142],\n",
       "        [157, 162]], dtype=int64))"
      ]
     },
     "execution_count": 42,
     "metadata": {},
     "output_type": "execute_result"
    }
   ],
   "source": [
    "confusion_matrix(yTrain,dtc_yTrainPred), confusion_matrix(yTest,dtc_yTestPred)"
   ]
  },
  {
   "cell_type": "code",
   "execution_count": null,
   "id": "508e8639",
   "metadata": {},
   "outputs": [],
   "source": []
  },
  {
   "cell_type": "code",
   "execution_count": null,
   "id": "74be350c",
   "metadata": {},
   "outputs": [],
   "source": []
  },
  {
   "cell_type": "code",
   "execution_count": null,
   "id": "aeaeb238",
   "metadata": {},
   "outputs": [],
   "source": []
  },
  {
   "cell_type": "code",
   "execution_count": null,
   "id": "0ec9ded3",
   "metadata": {},
   "outputs": [],
   "source": []
  }
 ],
 "metadata": {
  "kernelspec": {
   "display_name": "Python 3 (ipykernel)",
   "language": "python",
   "name": "python3"
  },
  "language_info": {
   "codemirror_mode": {
    "name": "ipython",
    "version": 3
   },
   "file_extension": ".py",
   "mimetype": "text/x-python",
   "name": "python",
   "nbconvert_exporter": "python",
   "pygments_lexer": "ipython3",
   "version": "3.9.13"
  }
 },
 "nbformat": 4,
 "nbformat_minor": 5
}
