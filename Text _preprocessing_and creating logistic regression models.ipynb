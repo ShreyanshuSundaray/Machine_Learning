{
 "cells": [
  {
   "cell_type": "code",
   "execution_count": 1,
   "id": "5964ec48",
   "metadata": {},
   "outputs": [],
   "source": [
    "import pandas as pd,numpy as np,re\n",
    "import sklearn\n",
    "import nltk\n",
    "from nltk.corpus import stopwords"
   ]
  },
  {
   "cell_type": "code",
   "execution_count": 2,
   "id": "5bbf550a",
   "metadata": {},
   "outputs": [],
   "source": [
    "data = pd.read_csv(r\"C:\\Users\\sreya\\OneDrive\\venom\\EDA\\starbucks.csv\")"
   ]
  },
  {
   "cell_type": "code",
   "execution_count": 3,
   "id": "12528b99",
   "metadata": {},
   "outputs": [],
   "source": [
    "datac = data.copy()"
   ]
  },
  {
   "cell_type": "code",
   "execution_count": 4,
   "id": "81fd54d5",
   "metadata": {},
   "outputs": [],
   "source": [
    "datac=datac.drop('Unnamed: 0',axis=1)"
   ]
  },
  {
   "cell_type": "code",
   "execution_count": 5,
   "id": "a9e36f33",
   "metadata": {},
   "outputs": [
    {
     "data": {
      "text/html": [
       "<div>\n",
       "<style scoped>\n",
       "    .dataframe tbody tr th:only-of-type {\n",
       "        vertical-align: middle;\n",
       "    }\n",
       "\n",
       "    .dataframe tbody tr th {\n",
       "        vertical-align: top;\n",
       "    }\n",
       "\n",
       "    .dataframe thead th {\n",
       "        text-align: right;\n",
       "    }\n",
       "</style>\n",
       "<table border=\"1\" class=\"dataframe\">\n",
       "  <thead>\n",
       "    <tr style=\"text-align: right;\">\n",
       "      <th></th>\n",
       "      <th>Location</th>\n",
       "      <th>date</th>\n",
       "      <th>Designation</th>\n",
       "      <th>Title</th>\n",
       "      <th>Review</th>\n",
       "      <th>Rating</th>\n",
       "    </tr>\n",
       "  </thead>\n",
       "  <tbody>\n",
       "    <tr>\n",
       "      <th>0</th>\n",
       "      <td>Hyderabad, AP</td>\n",
       "      <td>2015-05-05</td>\n",
       "      <td>Assistant Store Manager</td>\n",
       "      <td>Good work envioroment</td>\n",
       "      <td>1- Good company to work as its tata.\\r2- New c...</td>\n",
       "      <td>4.0</td>\n",
       "    </tr>\n",
       "    <tr>\n",
       "      <th>1</th>\n",
       "      <td>Texas</td>\n",
       "      <td>2023-04-30</td>\n",
       "      <td>Barista</td>\n",
       "      <td>Very stressful and UNDERPAID</td>\n",
       "      <td>It’s a very stressful environment. Dealing wit...</td>\n",
       "      <td>1.0</td>\n",
       "    </tr>\n",
       "    <tr>\n",
       "      <th>2</th>\n",
       "      <td>Chicago, IL</td>\n",
       "      <td>2023-04-30</td>\n",
       "      <td>Mixologist</td>\n",
       "      <td>Little accountability</td>\n",
       "      <td>Little to no accountability. You can be a hard...</td>\n",
       "      <td>4.0</td>\n",
       "    </tr>\n",
       "    <tr>\n",
       "      <th>3</th>\n",
       "      <td>Midtown New York, NY</td>\n",
       "      <td>2023-04-30</td>\n",
       "      <td>Barista</td>\n",
       "      <td>Worst Management</td>\n",
       "      <td>Worked with 3 store managers during my 9 month...</td>\n",
       "      <td>2.0</td>\n",
       "    </tr>\n",
       "    <tr>\n",
       "      <th>4</th>\n",
       "      <td>Albuquerque, NM</td>\n",
       "      <td>2023-04-30</td>\n",
       "      <td>Barista</td>\n",
       "      <td>Fun</td>\n",
       "      <td>I really enjoyed working here for like 2 years...</td>\n",
       "      <td>4.0</td>\n",
       "    </tr>\n",
       "    <tr>\n",
       "      <th>...</th>\n",
       "      <td>...</td>\n",
       "      <td>...</td>\n",
       "      <td>...</td>\n",
       "      <td>...</td>\n",
       "      <td>...</td>\n",
       "      <td>...</td>\n",
       "    </tr>\n",
       "    <tr>\n",
       "      <th>7015</th>\n",
       "      <td>Toronto, ON</td>\n",
       "      <td>2022-03-19</td>\n",
       "      <td>Shift Supervisor</td>\n",
       "      <td>Stressful But decent pay for student</td>\n",
       "      <td>Customers were challenging and often rude. Co ...</td>\n",
       "      <td>3.0</td>\n",
       "    </tr>\n",
       "    <tr>\n",
       "      <th>7016</th>\n",
       "      <td>Schaumburg, IL</td>\n",
       "      <td>2022-03-19</td>\n",
       "      <td>Shift Supervisor</td>\n",
       "      <td>Fun place to work with incredible benefits</td>\n",
       "      <td>Good place to work while going to school and a...</td>\n",
       "      <td>4.0</td>\n",
       "    </tr>\n",
       "    <tr>\n",
       "      <th>7017</th>\n",
       "      <td>Bronx, NY</td>\n",
       "      <td>2022-03-19</td>\n",
       "      <td>Barista</td>\n",
       "      <td>Good</td>\n",
       "      <td>Okay job lot of space to move up in company go...</td>\n",
       "      <td>3.0</td>\n",
       "    </tr>\n",
       "    <tr>\n",
       "      <th>7018</th>\n",
       "      <td>Toronto, ON</td>\n",
       "      <td>2022-03-19</td>\n",
       "      <td>Barista</td>\n",
       "      <td>Could be great or horrible</td>\n",
       "      <td>Honestly it totally depends on the manager and...</td>\n",
       "      <td>3.0</td>\n",
       "    </tr>\n",
       "    <tr>\n",
       "      <th>7019</th>\n",
       "      <td>Hollywood, FL</td>\n",
       "      <td>2022-03-18</td>\n",
       "      <td>Barista</td>\n",
       "      <td>Fun place to work at</td>\n",
       "      <td>Great for college students.Flexible hours and ...</td>\n",
       "      <td>5.0</td>\n",
       "    </tr>\n",
       "  </tbody>\n",
       "</table>\n",
       "<p>7020 rows × 6 columns</p>\n",
       "</div>"
      ],
      "text/plain": [
       "                  Location        date              Designation  \\\n",
       "0            Hyderabad, AP  2015-05-05  Assistant Store Manager   \n",
       "1                    Texas  2023-04-30                  Barista   \n",
       "2              Chicago, IL  2023-04-30               Mixologist   \n",
       "3     Midtown New York, NY  2023-04-30                  Barista   \n",
       "4          Albuquerque, NM  2023-04-30                  Barista   \n",
       "...                    ...         ...                      ...   \n",
       "7015           Toronto, ON  2022-03-19         Shift Supervisor   \n",
       "7016        Schaumburg, IL  2022-03-19         Shift Supervisor   \n",
       "7017             Bronx, NY  2022-03-19                  Barista   \n",
       "7018           Toronto, ON  2022-03-19                  Barista   \n",
       "7019         Hollywood, FL  2022-03-18                  Barista   \n",
       "\n",
       "                                            Title  \\\n",
       "0                           Good work envioroment   \n",
       "1                    Very stressful and UNDERPAID   \n",
       "2                           Little accountability   \n",
       "3                                Worst Management   \n",
       "4                                            Fun    \n",
       "...                                           ...   \n",
       "7015         Stressful But decent pay for student   \n",
       "7016  Fun place to work with incredible benefits    \n",
       "7017                                         Good   \n",
       "7018                  Could be great or horrible    \n",
       "7019                         Fun place to work at   \n",
       "\n",
       "                                                 Review  Rating  \n",
       "0     1- Good company to work as its tata.\\r2- New c...     4.0  \n",
       "1     It’s a very stressful environment. Dealing wit...     1.0  \n",
       "2     Little to no accountability. You can be a hard...     4.0  \n",
       "3     Worked with 3 store managers during my 9 month...     2.0  \n",
       "4     I really enjoyed working here for like 2 years...     4.0  \n",
       "...                                                 ...     ...  \n",
       "7015  Customers were challenging and often rude. Co ...     3.0  \n",
       "7016  Good place to work while going to school and a...     4.0  \n",
       "7017  Okay job lot of space to move up in company go...     3.0  \n",
       "7018  Honestly it totally depends on the manager and...     3.0  \n",
       "7019  Great for college students.Flexible hours and ...     5.0  \n",
       "\n",
       "[7020 rows x 6 columns]"
      ]
     },
     "execution_count": 5,
     "metadata": {},
     "output_type": "execute_result"
    }
   ],
   "source": [
    "datac"
   ]
  },
  {
   "cell_type": "markdown",
   "id": "b29547ad",
   "metadata": {},
   "source": [
    " "
   ]
  },
  {
   "cell_type": "markdown",
   "id": "abff34f2",
   "metadata": {},
   "source": [
    "### Converting to lowercase"
   ]
  },
  {
   "cell_type": "code",
   "execution_count": 6,
   "id": "539f8f50",
   "metadata": {},
   "outputs": [
    {
     "data": {
      "text/html": [
       "<div>\n",
       "<style scoped>\n",
       "    .dataframe tbody tr th:only-of-type {\n",
       "        vertical-align: middle;\n",
       "    }\n",
       "\n",
       "    .dataframe tbody tr th {\n",
       "        vertical-align: top;\n",
       "    }\n",
       "\n",
       "    .dataframe thead th {\n",
       "        text-align: right;\n",
       "    }\n",
       "</style>\n",
       "<table border=\"1\" class=\"dataframe\">\n",
       "  <thead>\n",
       "    <tr style=\"text-align: right;\">\n",
       "      <th></th>\n",
       "      <th>Location</th>\n",
       "      <th>date</th>\n",
       "      <th>Designation</th>\n",
       "      <th>Title</th>\n",
       "      <th>Review</th>\n",
       "      <th>Rating</th>\n",
       "    </tr>\n",
       "  </thead>\n",
       "  <tbody>\n",
       "    <tr>\n",
       "      <th>0</th>\n",
       "      <td>Hyderabad, AP</td>\n",
       "      <td>2015-05-05</td>\n",
       "      <td>Assistant Store Manager</td>\n",
       "      <td>Good work envioroment</td>\n",
       "      <td>1- good company to work as its tata.\\r2- new c...</td>\n",
       "      <td>4.0</td>\n",
       "    </tr>\n",
       "    <tr>\n",
       "      <th>1</th>\n",
       "      <td>Texas</td>\n",
       "      <td>2023-04-30</td>\n",
       "      <td>Barista</td>\n",
       "      <td>Very stressful and UNDERPAID</td>\n",
       "      <td>it’s a very stressful environment. dealing wit...</td>\n",
       "      <td>1.0</td>\n",
       "    </tr>\n",
       "    <tr>\n",
       "      <th>2</th>\n",
       "      <td>Chicago, IL</td>\n",
       "      <td>2023-04-30</td>\n",
       "      <td>Mixologist</td>\n",
       "      <td>Little accountability</td>\n",
       "      <td>little to no accountability. you can be a hard...</td>\n",
       "      <td>4.0</td>\n",
       "    </tr>\n",
       "    <tr>\n",
       "      <th>3</th>\n",
       "      <td>Midtown New York, NY</td>\n",
       "      <td>2023-04-30</td>\n",
       "      <td>Barista</td>\n",
       "      <td>Worst Management</td>\n",
       "      <td>worked with 3 store managers during my 9 month...</td>\n",
       "      <td>2.0</td>\n",
       "    </tr>\n",
       "    <tr>\n",
       "      <th>4</th>\n",
       "      <td>Albuquerque, NM</td>\n",
       "      <td>2023-04-30</td>\n",
       "      <td>Barista</td>\n",
       "      <td>Fun</td>\n",
       "      <td>i really enjoyed working here for like 2 years...</td>\n",
       "      <td>4.0</td>\n",
       "    </tr>\n",
       "  </tbody>\n",
       "</table>\n",
       "</div>"
      ],
      "text/plain": [
       "               Location        date              Designation  \\\n",
       "0         Hyderabad, AP  2015-05-05  Assistant Store Manager   \n",
       "1                 Texas  2023-04-30                  Barista   \n",
       "2           Chicago, IL  2023-04-30               Mixologist   \n",
       "3  Midtown New York, NY  2023-04-30                  Barista   \n",
       "4       Albuquerque, NM  2023-04-30                  Barista   \n",
       "\n",
       "                          Title  \\\n",
       "0         Good work envioroment   \n",
       "1  Very stressful and UNDERPAID   \n",
       "2         Little accountability   \n",
       "3              Worst Management   \n",
       "4                          Fun    \n",
       "\n",
       "                                              Review  Rating  \n",
       "0  1- good company to work as its tata.\\r2- new c...     4.0  \n",
       "1  it’s a very stressful environment. dealing wit...     1.0  \n",
       "2  little to no accountability. you can be a hard...     4.0  \n",
       "3  worked with 3 store managers during my 9 month...     2.0  \n",
       "4  i really enjoyed working here for like 2 years...     4.0  "
      ]
     },
     "execution_count": 6,
     "metadata": {},
     "output_type": "execute_result"
    }
   ],
   "source": [
    "def convertLowerCase(x):\n",
    "    return x.str.lower()\n",
    "\n",
    "datac['Review'] = convertLowerCase(datac['Review'])\n",
    "datac.head()"
   ]
  },
  {
   "cell_type": "markdown",
   "id": "cb1bad4a",
   "metadata": {},
   "source": [
    " "
   ]
  },
  {
   "cell_type": "markdown",
   "id": "b99a5a5f",
   "metadata": {},
   "source": [
    "### Remove html tags"
   ]
  },
  {
   "cell_type": "code",
   "execution_count": 7,
   "id": "d8050c04",
   "metadata": {},
   "outputs": [
    {
     "data": {
      "text/html": [
       "<div>\n",
       "<style scoped>\n",
       "    .dataframe tbody tr th:only-of-type {\n",
       "        vertical-align: middle;\n",
       "    }\n",
       "\n",
       "    .dataframe tbody tr th {\n",
       "        vertical-align: top;\n",
       "    }\n",
       "\n",
       "    .dataframe thead th {\n",
       "        text-align: right;\n",
       "    }\n",
       "</style>\n",
       "<table border=\"1\" class=\"dataframe\">\n",
       "  <thead>\n",
       "    <tr style=\"text-align: right;\">\n",
       "      <th></th>\n",
       "      <th>Location</th>\n",
       "      <th>date</th>\n",
       "      <th>Designation</th>\n",
       "      <th>Title</th>\n",
       "      <th>Review</th>\n",
       "      <th>Rating</th>\n",
       "    </tr>\n",
       "  </thead>\n",
       "  <tbody>\n",
       "    <tr>\n",
       "      <th>0</th>\n",
       "      <td>Hyderabad, AP</td>\n",
       "      <td>2015-05-05</td>\n",
       "      <td>Assistant Store Manager</td>\n",
       "      <td>Good work envioroment</td>\n",
       "      <td>1- good company to work as its tata.\\r2- new c...</td>\n",
       "      <td>4.0</td>\n",
       "    </tr>\n",
       "    <tr>\n",
       "      <th>1</th>\n",
       "      <td>Texas</td>\n",
       "      <td>2023-04-30</td>\n",
       "      <td>Barista</td>\n",
       "      <td>Very stressful and UNDERPAID</td>\n",
       "      <td>it’s a very stressful environment. dealing wit...</td>\n",
       "      <td>1.0</td>\n",
       "    </tr>\n",
       "    <tr>\n",
       "      <th>2</th>\n",
       "      <td>Chicago, IL</td>\n",
       "      <td>2023-04-30</td>\n",
       "      <td>Mixologist</td>\n",
       "      <td>Little accountability</td>\n",
       "      <td>little to no accountability. you can be a hard...</td>\n",
       "      <td>4.0</td>\n",
       "    </tr>\n",
       "    <tr>\n",
       "      <th>3</th>\n",
       "      <td>Midtown New York, NY</td>\n",
       "      <td>2023-04-30</td>\n",
       "      <td>Barista</td>\n",
       "      <td>Worst Management</td>\n",
       "      <td>worked with 3 store managers during my 9 month...</td>\n",
       "      <td>2.0</td>\n",
       "    </tr>\n",
       "    <tr>\n",
       "      <th>4</th>\n",
       "      <td>Albuquerque, NM</td>\n",
       "      <td>2023-04-30</td>\n",
       "      <td>Barista</td>\n",
       "      <td>Fun</td>\n",
       "      <td>i really enjoyed working here for like 2 years...</td>\n",
       "      <td>4.0</td>\n",
       "    </tr>\n",
       "  </tbody>\n",
       "</table>\n",
       "</div>"
      ],
      "text/plain": [
       "               Location        date              Designation  \\\n",
       "0         Hyderabad, AP  2015-05-05  Assistant Store Manager   \n",
       "1                 Texas  2023-04-30                  Barista   \n",
       "2           Chicago, IL  2023-04-30               Mixologist   \n",
       "3  Midtown New York, NY  2023-04-30                  Barista   \n",
       "4       Albuquerque, NM  2023-04-30                  Barista   \n",
       "\n",
       "                          Title  \\\n",
       "0         Good work envioroment   \n",
       "1  Very stressful and UNDERPAID   \n",
       "2         Little accountability   \n",
       "3              Worst Management   \n",
       "4                          Fun    \n",
       "\n",
       "                                              Review  Rating  \n",
       "0  1- good company to work as its tata.\\r2- new c...     4.0  \n",
       "1  it’s a very stressful environment. dealing wit...     1.0  \n",
       "2  little to no accountability. you can be a hard...     4.0  \n",
       "3  worked with 3 store managers during my 9 month...     2.0  \n",
       "4  i really enjoyed working here for like 2 years...     4.0  "
      ]
     },
     "execution_count": 7,
     "metadata": {},
     "output_type": "execute_result"
    }
   ],
   "source": [
    "def removeHtmlTags(text):\n",
    "    return re.sub(r'<.*?>','', text)\n",
    "\n",
    "datac['Review'] = datac['Review'].apply(removeHtmlTags)\n",
    "datac.head()"
   ]
  },
  {
   "cell_type": "markdown",
   "id": "e1f666a2",
   "metadata": {},
   "source": [
    "## Remove urls"
   ]
  },
  {
   "cell_type": "code",
   "execution_count": 8,
   "id": "b5a5377b",
   "metadata": {},
   "outputs": [
    {
     "data": {
      "text/html": [
       "<div>\n",
       "<style scoped>\n",
       "    .dataframe tbody tr th:only-of-type {\n",
       "        vertical-align: middle;\n",
       "    }\n",
       "\n",
       "    .dataframe tbody tr th {\n",
       "        vertical-align: top;\n",
       "    }\n",
       "\n",
       "    .dataframe thead th {\n",
       "        text-align: right;\n",
       "    }\n",
       "</style>\n",
       "<table border=\"1\" class=\"dataframe\">\n",
       "  <thead>\n",
       "    <tr style=\"text-align: right;\">\n",
       "      <th></th>\n",
       "      <th>Location</th>\n",
       "      <th>date</th>\n",
       "      <th>Designation</th>\n",
       "      <th>Title</th>\n",
       "      <th>Review</th>\n",
       "      <th>Rating</th>\n",
       "    </tr>\n",
       "  </thead>\n",
       "  <tbody>\n",
       "    <tr>\n",
       "      <th>0</th>\n",
       "      <td>Hyderabad, AP</td>\n",
       "      <td>2015-05-05</td>\n",
       "      <td>Assistant Store Manager</td>\n",
       "      <td>Good work envioroment</td>\n",
       "      <td>1- good company to work as its tata.\\r2- new c...</td>\n",
       "      <td>4.0</td>\n",
       "    </tr>\n",
       "    <tr>\n",
       "      <th>1</th>\n",
       "      <td>Texas</td>\n",
       "      <td>2023-04-30</td>\n",
       "      <td>Barista</td>\n",
       "      <td>Very stressful and UNDERPAID</td>\n",
       "      <td>it’s a very stressful environment. dealing wit...</td>\n",
       "      <td>1.0</td>\n",
       "    </tr>\n",
       "    <tr>\n",
       "      <th>2</th>\n",
       "      <td>Chicago, IL</td>\n",
       "      <td>2023-04-30</td>\n",
       "      <td>Mixologist</td>\n",
       "      <td>Little accountability</td>\n",
       "      <td>little to no accountability. you can be a hard...</td>\n",
       "      <td>4.0</td>\n",
       "    </tr>\n",
       "    <tr>\n",
       "      <th>3</th>\n",
       "      <td>Midtown New York, NY</td>\n",
       "      <td>2023-04-30</td>\n",
       "      <td>Barista</td>\n",
       "      <td>Worst Management</td>\n",
       "      <td>worked with 3 store managers during my 9 month...</td>\n",
       "      <td>2.0</td>\n",
       "    </tr>\n",
       "    <tr>\n",
       "      <th>4</th>\n",
       "      <td>Albuquerque, NM</td>\n",
       "      <td>2023-04-30</td>\n",
       "      <td>Barista</td>\n",
       "      <td>Fun</td>\n",
       "      <td>i really enjoyed working here for like 2 years...</td>\n",
       "      <td>4.0</td>\n",
       "    </tr>\n",
       "  </tbody>\n",
       "</table>\n",
       "</div>"
      ],
      "text/plain": [
       "               Location        date              Designation  \\\n",
       "0         Hyderabad, AP  2015-05-05  Assistant Store Manager   \n",
       "1                 Texas  2023-04-30                  Barista   \n",
       "2           Chicago, IL  2023-04-30               Mixologist   \n",
       "3  Midtown New York, NY  2023-04-30                  Barista   \n",
       "4       Albuquerque, NM  2023-04-30                  Barista   \n",
       "\n",
       "                          Title  \\\n",
       "0         Good work envioroment   \n",
       "1  Very stressful and UNDERPAID   \n",
       "2         Little accountability   \n",
       "3              Worst Management   \n",
       "4                          Fun    \n",
       "\n",
       "                                              Review  Rating  \n",
       "0  1- good company to work as its tata.\\r2- new c...     4.0  \n",
       "1  it’s a very stressful environment. dealing wit...     1.0  \n",
       "2  little to no accountability. you can be a hard...     4.0  \n",
       "3  worked with 3 store managers during my 9 month...     2.0  \n",
       "4  i really enjoyed working here for like 2 years...     4.0  "
      ]
     },
     "execution_count": 8,
     "metadata": {},
     "output_type": "execute_result"
    }
   ],
   "source": [
    "def removeUrls(text):\n",
    "    return re.sub(r'https?://\\S+|www\\.S\\+', '', text)\n",
    "\n",
    "datac['Review'] = datac['Review'].apply(removeUrls)\n",
    "datac.head()"
   ]
  },
  {
   "cell_type": "code",
   "execution_count": 9,
   "id": "dff62cc2",
   "metadata": {},
   "outputs": [
    {
     "data": {
      "text/plain": [
       "'1- good company to work as its tata.\\r2- new company\\r3- good to learn new things.\\r4- all full timer\\r5- good culture \\r6- chance to learn about coffee'"
      ]
     },
     "execution_count": 9,
     "metadata": {},
     "output_type": "execute_result"
    }
   ],
   "source": [
    "datac['Review'][0]"
   ]
  },
  {
   "cell_type": "markdown",
   "id": "4d8bbc1f",
   "metadata": {},
   "source": [
    "### handle new lines(\\n and \\r)"
   ]
  },
  {
   "cell_type": "code",
   "execution_count": 10,
   "id": "127f5a26",
   "metadata": {},
   "outputs": [
    {
     "data": {
      "text/html": [
       "<div>\n",
       "<style scoped>\n",
       "    .dataframe tbody tr th:only-of-type {\n",
       "        vertical-align: middle;\n",
       "    }\n",
       "\n",
       "    .dataframe tbody tr th {\n",
       "        vertical-align: top;\n",
       "    }\n",
       "\n",
       "    .dataframe thead th {\n",
       "        text-align: right;\n",
       "    }\n",
       "</style>\n",
       "<table border=\"1\" class=\"dataframe\">\n",
       "  <thead>\n",
       "    <tr style=\"text-align: right;\">\n",
       "      <th></th>\n",
       "      <th>Location</th>\n",
       "      <th>date</th>\n",
       "      <th>Designation</th>\n",
       "      <th>Title</th>\n",
       "      <th>Review</th>\n",
       "      <th>Rating</th>\n",
       "    </tr>\n",
       "  </thead>\n",
       "  <tbody>\n",
       "    <tr>\n",
       "      <th>0</th>\n",
       "      <td>Hyderabad, AP</td>\n",
       "      <td>2015-05-05</td>\n",
       "      <td>Assistant Store Manager</td>\n",
       "      <td>Good work envioroment</td>\n",
       "      <td>1- good company to work as its tata. 2- new co...</td>\n",
       "      <td>4.0</td>\n",
       "    </tr>\n",
       "    <tr>\n",
       "      <th>1</th>\n",
       "      <td>Texas</td>\n",
       "      <td>2023-04-30</td>\n",
       "      <td>Barista</td>\n",
       "      <td>Very stressful and UNDERPAID</td>\n",
       "      <td>it’s a very stressful environment. dealing wit...</td>\n",
       "      <td>1.0</td>\n",
       "    </tr>\n",
       "    <tr>\n",
       "      <th>2</th>\n",
       "      <td>Chicago, IL</td>\n",
       "      <td>2023-04-30</td>\n",
       "      <td>Mixologist</td>\n",
       "      <td>Little accountability</td>\n",
       "      <td>little to no accountability. you can be a hard...</td>\n",
       "      <td>4.0</td>\n",
       "    </tr>\n",
       "    <tr>\n",
       "      <th>3</th>\n",
       "      <td>Midtown New York, NY</td>\n",
       "      <td>2023-04-30</td>\n",
       "      <td>Barista</td>\n",
       "      <td>Worst Management</td>\n",
       "      <td>worked with 3 store managers during my 9 month...</td>\n",
       "      <td>2.0</td>\n",
       "    </tr>\n",
       "    <tr>\n",
       "      <th>4</th>\n",
       "      <td>Albuquerque, NM</td>\n",
       "      <td>2023-04-30</td>\n",
       "      <td>Barista</td>\n",
       "      <td>Fun</td>\n",
       "      <td>i really enjoyed working here for like 2 years...</td>\n",
       "      <td>4.0</td>\n",
       "    </tr>\n",
       "  </tbody>\n",
       "</table>\n",
       "</div>"
      ],
      "text/plain": [
       "               Location        date              Designation  \\\n",
       "0         Hyderabad, AP  2015-05-05  Assistant Store Manager   \n",
       "1                 Texas  2023-04-30                  Barista   \n",
       "2           Chicago, IL  2023-04-30               Mixologist   \n",
       "3  Midtown New York, NY  2023-04-30                  Barista   \n",
       "4       Albuquerque, NM  2023-04-30                  Barista   \n",
       "\n",
       "                          Title  \\\n",
       "0         Good work envioroment   \n",
       "1  Very stressful and UNDERPAID   \n",
       "2         Little accountability   \n",
       "3              Worst Management   \n",
       "4                          Fun    \n",
       "\n",
       "                                              Review  Rating  \n",
       "0  1- good company to work as its tata. 2- new co...     4.0  \n",
       "1  it’s a very stressful environment. dealing wit...     1.0  \n",
       "2  little to no accountability. you can be a hard...     4.0  \n",
       "3  worked with 3 store managers during my 9 month...     2.0  \n",
       "4  i really enjoyed working here for like 2 years...     4.0  "
      ]
     },
     "execution_count": 10,
     "metadata": {},
     "output_type": "execute_result"
    }
   ],
   "source": [
    "def handleNewLine(text):\n",
    "    return re.sub(r'\\n|\\r',' ', text)\n",
    "\n",
    "datac['Review'] = datac['Review'].apply(handleNewLine)\n",
    "datac.head()"
   ]
  },
  {
   "cell_type": "code",
   "execution_count": null,
   "id": "3fec01ef",
   "metadata": {},
   "outputs": [],
   "source": []
  },
  {
   "cell_type": "markdown",
   "id": "2ba46a47",
   "metadata": {},
   "source": [
    "### Remove special chars/punctuations"
   ]
  },
  {
   "cell_type": "code",
   "execution_count": 11,
   "id": "bf095579",
   "metadata": {},
   "outputs": [
    {
     "data": {
      "text/html": [
       "<div>\n",
       "<style scoped>\n",
       "    .dataframe tbody tr th:only-of-type {\n",
       "        vertical-align: middle;\n",
       "    }\n",
       "\n",
       "    .dataframe tbody tr th {\n",
       "        vertical-align: top;\n",
       "    }\n",
       "\n",
       "    .dataframe thead th {\n",
       "        text-align: right;\n",
       "    }\n",
       "</style>\n",
       "<table border=\"1\" class=\"dataframe\">\n",
       "  <thead>\n",
       "    <tr style=\"text-align: right;\">\n",
       "      <th></th>\n",
       "      <th>Location</th>\n",
       "      <th>date</th>\n",
       "      <th>Designation</th>\n",
       "      <th>Title</th>\n",
       "      <th>Review</th>\n",
       "      <th>Rating</th>\n",
       "    </tr>\n",
       "  </thead>\n",
       "  <tbody>\n",
       "    <tr>\n",
       "      <th>0</th>\n",
       "      <td>Hyderabad, AP</td>\n",
       "      <td>2015-05-05</td>\n",
       "      <td>Assistant Store Manager</td>\n",
       "      <td>Good work envioroment</td>\n",
       "      <td>1  good company to work as its tata  2  new co...</td>\n",
       "      <td>4.0</td>\n",
       "    </tr>\n",
       "    <tr>\n",
       "      <th>1</th>\n",
       "      <td>Texas</td>\n",
       "      <td>2023-04-30</td>\n",
       "      <td>Barista</td>\n",
       "      <td>Very stressful and UNDERPAID</td>\n",
       "      <td>it s a very stressful environment  dealing wit...</td>\n",
       "      <td>1.0</td>\n",
       "    </tr>\n",
       "    <tr>\n",
       "      <th>2</th>\n",
       "      <td>Chicago, IL</td>\n",
       "      <td>2023-04-30</td>\n",
       "      <td>Mixologist</td>\n",
       "      <td>Little accountability</td>\n",
       "      <td>little to no accountability  you can be a hard...</td>\n",
       "      <td>4.0</td>\n",
       "    </tr>\n",
       "    <tr>\n",
       "      <th>3</th>\n",
       "      <td>Midtown New York, NY</td>\n",
       "      <td>2023-04-30</td>\n",
       "      <td>Barista</td>\n",
       "      <td>Worst Management</td>\n",
       "      <td>worked with 3 store managers during my 9 month...</td>\n",
       "      <td>2.0</td>\n",
       "    </tr>\n",
       "    <tr>\n",
       "      <th>4</th>\n",
       "      <td>Albuquerque, NM</td>\n",
       "      <td>2023-04-30</td>\n",
       "      <td>Barista</td>\n",
       "      <td>Fun</td>\n",
       "      <td>i really enjoyed working here for like 2 years...</td>\n",
       "      <td>4.0</td>\n",
       "    </tr>\n",
       "  </tbody>\n",
       "</table>\n",
       "</div>"
      ],
      "text/plain": [
       "               Location        date              Designation  \\\n",
       "0         Hyderabad, AP  2015-05-05  Assistant Store Manager   \n",
       "1                 Texas  2023-04-30                  Barista   \n",
       "2           Chicago, IL  2023-04-30               Mixologist   \n",
       "3  Midtown New York, NY  2023-04-30                  Barista   \n",
       "4       Albuquerque, NM  2023-04-30                  Barista   \n",
       "\n",
       "                          Title  \\\n",
       "0         Good work envioroment   \n",
       "1  Very stressful and UNDERPAID   \n",
       "2         Little accountability   \n",
       "3              Worst Management   \n",
       "4                          Fun    \n",
       "\n",
       "                                              Review  Rating  \n",
       "0  1  good company to work as its tata  2  new co...     4.0  \n",
       "1  it s a very stressful environment  dealing wit...     1.0  \n",
       "2  little to no accountability  you can be a hard...     4.0  \n",
       "3  worked with 3 store managers during my 9 month...     2.0  \n",
       "4  i really enjoyed working here for like 2 years...     4.0  "
      ]
     },
     "execution_count": 11,
     "metadata": {},
     "output_type": "execute_result"
    }
   ],
   "source": [
    "def removeSpecialChars(text):\n",
    "    return re.sub('[^0-9a-zA-Z]',' ', text)\n",
    "\n",
    "datac['Review'] = datac['Review'].apply(removeSpecialChars)\n",
    "datac.head()"
   ]
  },
  {
   "cell_type": "markdown",
   "id": "4f61ec92",
   "metadata": {},
   "source": [
    "### Remove Stopwords"
   ]
  },
  {
   "cell_type": "code",
   "execution_count": 27,
   "id": "c59e1447",
   "metadata": {},
   "outputs": [],
   "source": [
    "def removeStopwords(text):\n",
    "\n",
    "    a = []\n",
    "    for word in text.split():\n",
    "        if word not in stopwords.words('english'):\n",
    "              a.append(word)\n",
    "    return ' '.join(a)\n",
    "\n",
    "\n"
   ]
  },
  {
   "cell_type": "code",
   "execution_count": 28,
   "id": "9a37a27e",
   "metadata": {},
   "outputs": [
    {
     "data": {
      "text/html": [
       "<div>\n",
       "<style scoped>\n",
       "    .dataframe tbody tr th:only-of-type {\n",
       "        vertical-align: middle;\n",
       "    }\n",
       "\n",
       "    .dataframe tbody tr th {\n",
       "        vertical-align: top;\n",
       "    }\n",
       "\n",
       "    .dataframe thead th {\n",
       "        text-align: right;\n",
       "    }\n",
       "</style>\n",
       "<table border=\"1\" class=\"dataframe\">\n",
       "  <thead>\n",
       "    <tr style=\"text-align: right;\">\n",
       "      <th></th>\n",
       "      <th>Location</th>\n",
       "      <th>date</th>\n",
       "      <th>Designation</th>\n",
       "      <th>Title</th>\n",
       "      <th>Review</th>\n",
       "      <th>Rating</th>\n",
       "      <th>reviewTokens</th>\n",
       "    </tr>\n",
       "  </thead>\n",
       "  <tbody>\n",
       "    <tr>\n",
       "      <th>0</th>\n",
       "      <td>Hyderabad, AP</td>\n",
       "      <td>2015-05-05</td>\n",
       "      <td>Assistant Store Manager</td>\n",
       "      <td>Good work envioroment</td>\n",
       "      <td>1 good company work tata 2 new company 3 good ...</td>\n",
       "      <td>4.0</td>\n",
       "      <td>[1, , good, company, work, tata, , 2, , new, c...</td>\n",
       "    </tr>\n",
       "    <tr>\n",
       "      <th>1</th>\n",
       "      <td>Texas</td>\n",
       "      <td>2023-04-30</td>\n",
       "      <td>Barista</td>\n",
       "      <td>Very stressful and UNDERPAID</td>\n",
       "      <td>stressful environment dealing people think ent...</td>\n",
       "      <td>1.0</td>\n",
       "      <td>[stressful, environment, , dealing, people, th...</td>\n",
       "    </tr>\n",
       "    <tr>\n",
       "      <th>2</th>\n",
       "      <td>Chicago, IL</td>\n",
       "      <td>2023-04-30</td>\n",
       "      <td>Mixologist</td>\n",
       "      <td>Little accountability</td>\n",
       "      <td>little accountability hard worker burnt manage...</td>\n",
       "      <td>4.0</td>\n",
       "      <td>[little, accountability, , hard, worker, burnt...</td>\n",
       "    </tr>\n",
       "    <tr>\n",
       "      <th>3</th>\n",
       "      <td>Midtown New York, NY</td>\n",
       "      <td>2023-04-30</td>\n",
       "      <td>Barista</td>\n",
       "      <td>Worst Management</td>\n",
       "      <td>worked 3 store managers 9 month tenure starbuc...</td>\n",
       "      <td>2.0</td>\n",
       "      <td>[worked, 3, store, manager, 9, month, tenure, ...</td>\n",
       "    </tr>\n",
       "    <tr>\n",
       "      <th>4</th>\n",
       "      <td>Albuquerque, NM</td>\n",
       "      <td>2023-04-30</td>\n",
       "      <td>Barista</td>\n",
       "      <td>Fun</td>\n",
       "      <td>really enjoyed working like 2 years managers p...</td>\n",
       "      <td>4.0</td>\n",
       "      <td>[really, enjoyed, working, like, 2, year, , ma...</td>\n",
       "    </tr>\n",
       "  </tbody>\n",
       "</table>\n",
       "</div>"
      ],
      "text/plain": [
       "               Location        date              Designation  \\\n",
       "0         Hyderabad, AP  2015-05-05  Assistant Store Manager   \n",
       "1                 Texas  2023-04-30                  Barista   \n",
       "2           Chicago, IL  2023-04-30               Mixologist   \n",
       "3  Midtown New York, NY  2023-04-30                  Barista   \n",
       "4       Albuquerque, NM  2023-04-30                  Barista   \n",
       "\n",
       "                          Title  \\\n",
       "0         Good work envioroment   \n",
       "1  Very stressful and UNDERPAID   \n",
       "2         Little accountability   \n",
       "3              Worst Management   \n",
       "4                          Fun    \n",
       "\n",
       "                                              Review  Rating  \\\n",
       "0  1 good company work tata 2 new company 3 good ...     4.0   \n",
       "1  stressful environment dealing people think ent...     1.0   \n",
       "2  little accountability hard worker burnt manage...     4.0   \n",
       "3  worked 3 store managers 9 month tenure starbuc...     2.0   \n",
       "4  really enjoyed working like 2 years managers p...     4.0   \n",
       "\n",
       "                                        reviewTokens  \n",
       "0  [1, , good, company, work, tata, , 2, , new, c...  \n",
       "1  [stressful, environment, , dealing, people, th...  \n",
       "2  [little, accountability, , hard, worker, burnt...  \n",
       "3  [worked, 3, store, manager, 9, month, tenure, ...  \n",
       "4  [really, enjoyed, working, like, 2, year, , ma...  "
      ]
     },
     "execution_count": 28,
     "metadata": {},
     "output_type": "execute_result"
    }
   ],
   "source": [
    "datac['Review'] = datac['Review'].apply(removeStopwords)\n",
    "datac.head()"
   ]
  },
  {
   "cell_type": "code",
   "execution_count": null,
   "id": "e7920e7f",
   "metadata": {},
   "outputs": [],
   "source": []
  },
  {
   "cell_type": "markdown",
   "id": "238eee39",
   "metadata": {},
   "source": [
    "### Lemmatization"
   ]
  },
  {
   "cell_type": "code",
   "execution_count": 14,
   "id": "174cfdca",
   "metadata": {},
   "outputs": [
    {
     "name": "stderr",
     "output_type": "stream",
     "text": [
      "[nltk_data] Downloading package wordnet to\n",
      "[nltk_data]     C:\\Users\\sreya\\AppData\\Roaming\\nltk_data...\n",
      "[nltk_data]   Package wordnet is already up-to-date!\n",
      "[nltk_data] Downloading package omw-1.4 to\n",
      "[nltk_data]     C:\\Users\\sreya\\AppData\\Roaming\\nltk_data...\n",
      "[nltk_data]   Package omw-1.4 is already up-to-date!\n"
     ]
    }
   ],
   "source": [
    "nltk.download('wordnet')\n",
    "nltk.download('omw-1.4')\n",
    "from nltk.stem import WordNetLemmatizer\n",
    "lem = WordNetLemmatizer()"
   ]
  },
  {
   "cell_type": "markdown",
   "id": "0d97baf0",
   "metadata": {},
   "source": [
    "### Converting to lem tokens"
   ]
  },
  {
   "cell_type": "code",
   "execution_count": 29,
   "id": "c962effd",
   "metadata": {},
   "outputs": [],
   "source": [
    "def lemTokens(text):\n",
    "    lemTokens = []\n",
    "    for word in text.split(' '):\n",
    "\n",
    "        if word != ' ' or word != '':\n",
    "              lemTokens.append(lem.lemmatize(word))\n",
    "    \n",
    "    return lemTokens"
   ]
  },
  {
   "cell_type": "code",
   "execution_count": 31,
   "id": "2ced55e1",
   "metadata": {},
   "outputs": [],
   "source": [
    "datac['reviewTokens'] = datac['Review'].apply(lemTokens)"
   ]
  },
  {
   "cell_type": "code",
   "execution_count": 33,
   "id": "9e68e2cc",
   "metadata": {},
   "outputs": [
    {
     "data": {
      "text/html": [
       "<div>\n",
       "<style scoped>\n",
       "    .dataframe tbody tr th:only-of-type {\n",
       "        vertical-align: middle;\n",
       "    }\n",
       "\n",
       "    .dataframe tbody tr th {\n",
       "        vertical-align: top;\n",
       "    }\n",
       "\n",
       "    .dataframe thead th {\n",
       "        text-align: right;\n",
       "    }\n",
       "</style>\n",
       "<table border=\"1\" class=\"dataframe\">\n",
       "  <thead>\n",
       "    <tr style=\"text-align: right;\">\n",
       "      <th></th>\n",
       "      <th>Location</th>\n",
       "      <th>date</th>\n",
       "      <th>Designation</th>\n",
       "      <th>Title</th>\n",
       "      <th>Review</th>\n",
       "      <th>Rating</th>\n",
       "      <th>reviewTokens</th>\n",
       "    </tr>\n",
       "  </thead>\n",
       "  <tbody>\n",
       "    <tr>\n",
       "      <th>0</th>\n",
       "      <td>Hyderabad, AP</td>\n",
       "      <td>2015-05-05</td>\n",
       "      <td>Assistant Store Manager</td>\n",
       "      <td>Good work envioroment</td>\n",
       "      <td>1 good company work tata 2 new company 3 good ...</td>\n",
       "      <td>4.0</td>\n",
       "      <td>[1, good, company, work, tata, 2, new, company...</td>\n",
       "    </tr>\n",
       "    <tr>\n",
       "      <th>1</th>\n",
       "      <td>Texas</td>\n",
       "      <td>2023-04-30</td>\n",
       "      <td>Barista</td>\n",
       "      <td>Very stressful and UNDERPAID</td>\n",
       "      <td>stressful environment dealing people think ent...</td>\n",
       "      <td>1.0</td>\n",
       "      <td>[stressful, environment, dealing, people, thin...</td>\n",
       "    </tr>\n",
       "    <tr>\n",
       "      <th>2</th>\n",
       "      <td>Chicago, IL</td>\n",
       "      <td>2023-04-30</td>\n",
       "      <td>Mixologist</td>\n",
       "      <td>Little accountability</td>\n",
       "      <td>little accountability hard worker burnt manage...</td>\n",
       "      <td>4.0</td>\n",
       "      <td>[little, accountability, hard, worker, burnt, ...</td>\n",
       "    </tr>\n",
       "    <tr>\n",
       "      <th>3</th>\n",
       "      <td>Midtown New York, NY</td>\n",
       "      <td>2023-04-30</td>\n",
       "      <td>Barista</td>\n",
       "      <td>Worst Management</td>\n",
       "      <td>worked 3 store managers 9 month tenure starbuc...</td>\n",
       "      <td>2.0</td>\n",
       "      <td>[worked, 3, store, manager, 9, month, tenure, ...</td>\n",
       "    </tr>\n",
       "    <tr>\n",
       "      <th>4</th>\n",
       "      <td>Albuquerque, NM</td>\n",
       "      <td>2023-04-30</td>\n",
       "      <td>Barista</td>\n",
       "      <td>Fun</td>\n",
       "      <td>really enjoyed working like 2 years managers p...</td>\n",
       "      <td>4.0</td>\n",
       "      <td>[really, enjoyed, working, like, 2, year, mana...</td>\n",
       "    </tr>\n",
       "  </tbody>\n",
       "</table>\n",
       "</div>"
      ],
      "text/plain": [
       "               Location        date              Designation  \\\n",
       "0         Hyderabad, AP  2015-05-05  Assistant Store Manager   \n",
       "1                 Texas  2023-04-30                  Barista   \n",
       "2           Chicago, IL  2023-04-30               Mixologist   \n",
       "3  Midtown New York, NY  2023-04-30                  Barista   \n",
       "4       Albuquerque, NM  2023-04-30                  Barista   \n",
       "\n",
       "                          Title  \\\n",
       "0         Good work envioroment   \n",
       "1  Very stressful and UNDERPAID   \n",
       "2         Little accountability   \n",
       "3              Worst Management   \n",
       "4                          Fun    \n",
       "\n",
       "                                              Review  Rating  \\\n",
       "0  1 good company work tata 2 new company 3 good ...     4.0   \n",
       "1  stressful environment dealing people think ent...     1.0   \n",
       "2  little accountability hard worker burnt manage...     4.0   \n",
       "3  worked 3 store managers 9 month tenure starbuc...     2.0   \n",
       "4  really enjoyed working like 2 years managers p...     4.0   \n",
       "\n",
       "                                        reviewTokens  \n",
       "0  [1, good, company, work, tata, 2, new, company...  \n",
       "1  [stressful, environment, dealing, people, thin...  \n",
       "2  [little, accountability, hard, worker, burnt, ...  \n",
       "3  [worked, 3, store, manager, 9, month, tenure, ...  \n",
       "4  [really, enjoyed, working, like, 2, year, mana...  "
      ]
     },
     "execution_count": 33,
     "metadata": {},
     "output_type": "execute_result"
    }
   ],
   "source": [
    "datac.head()"
   ]
  },
  {
   "cell_type": "markdown",
   "id": "fafce4c6",
   "metadata": {},
   "source": [
    "### Converting the reviewTokens into sentence"
   ]
  },
  {
   "cell_type": "code",
   "execution_count": 34,
   "id": "1b9783b1",
   "metadata": {},
   "outputs": [],
   "source": [
    "datac[\"lemsentances\"]=datac[\"reviewTokens\"].str.join(' ')"
   ]
  },
  {
   "cell_type": "code",
   "execution_count": 35,
   "id": "ebab547f",
   "metadata": {},
   "outputs": [
    {
     "data": {
      "text/html": [
       "<div>\n",
       "<style scoped>\n",
       "    .dataframe tbody tr th:only-of-type {\n",
       "        vertical-align: middle;\n",
       "    }\n",
       "\n",
       "    .dataframe tbody tr th {\n",
       "        vertical-align: top;\n",
       "    }\n",
       "\n",
       "    .dataframe thead th {\n",
       "        text-align: right;\n",
       "    }\n",
       "</style>\n",
       "<table border=\"1\" class=\"dataframe\">\n",
       "  <thead>\n",
       "    <tr style=\"text-align: right;\">\n",
       "      <th></th>\n",
       "      <th>Location</th>\n",
       "      <th>date</th>\n",
       "      <th>Designation</th>\n",
       "      <th>Title</th>\n",
       "      <th>Review</th>\n",
       "      <th>Rating</th>\n",
       "      <th>reviewTokens</th>\n",
       "      <th>lemsentances</th>\n",
       "    </tr>\n",
       "  </thead>\n",
       "  <tbody>\n",
       "    <tr>\n",
       "      <th>0</th>\n",
       "      <td>Hyderabad, AP</td>\n",
       "      <td>2015-05-05</td>\n",
       "      <td>Assistant Store Manager</td>\n",
       "      <td>Good work envioroment</td>\n",
       "      <td>1 good company work tata 2 new company 3 good ...</td>\n",
       "      <td>4.0</td>\n",
       "      <td>[1, good, company, work, tata, 2, new, company...</td>\n",
       "      <td>1 good company work tata 2 new company 3 good ...</td>\n",
       "    </tr>\n",
       "    <tr>\n",
       "      <th>1</th>\n",
       "      <td>Texas</td>\n",
       "      <td>2023-04-30</td>\n",
       "      <td>Barista</td>\n",
       "      <td>Very stressful and UNDERPAID</td>\n",
       "      <td>stressful environment dealing people think ent...</td>\n",
       "      <td>1.0</td>\n",
       "      <td>[stressful, environment, dealing, people, thin...</td>\n",
       "      <td>stressful environment dealing people think ent...</td>\n",
       "    </tr>\n",
       "    <tr>\n",
       "      <th>2</th>\n",
       "      <td>Chicago, IL</td>\n",
       "      <td>2023-04-30</td>\n",
       "      <td>Mixologist</td>\n",
       "      <td>Little accountability</td>\n",
       "      <td>little accountability hard worker burnt manage...</td>\n",
       "      <td>4.0</td>\n",
       "      <td>[little, accountability, hard, worker, burnt, ...</td>\n",
       "      <td>little accountability hard worker burnt manage...</td>\n",
       "    </tr>\n",
       "    <tr>\n",
       "      <th>3</th>\n",
       "      <td>Midtown New York, NY</td>\n",
       "      <td>2023-04-30</td>\n",
       "      <td>Barista</td>\n",
       "      <td>Worst Management</td>\n",
       "      <td>worked 3 store managers 9 month tenure starbuc...</td>\n",
       "      <td>2.0</td>\n",
       "      <td>[worked, 3, store, manager, 9, month, tenure, ...</td>\n",
       "      <td>worked 3 store manager 9 month tenure starbuck...</td>\n",
       "    </tr>\n",
       "    <tr>\n",
       "      <th>4</th>\n",
       "      <td>Albuquerque, NM</td>\n",
       "      <td>2023-04-30</td>\n",
       "      <td>Barista</td>\n",
       "      <td>Fun</td>\n",
       "      <td>really enjoyed working like 2 years managers p...</td>\n",
       "      <td>4.0</td>\n",
       "      <td>[really, enjoyed, working, like, 2, year, mana...</td>\n",
       "      <td>really enjoyed working like 2 year manager pro...</td>\n",
       "    </tr>\n",
       "  </tbody>\n",
       "</table>\n",
       "</div>"
      ],
      "text/plain": [
       "               Location        date              Designation  \\\n",
       "0         Hyderabad, AP  2015-05-05  Assistant Store Manager   \n",
       "1                 Texas  2023-04-30                  Barista   \n",
       "2           Chicago, IL  2023-04-30               Mixologist   \n",
       "3  Midtown New York, NY  2023-04-30                  Barista   \n",
       "4       Albuquerque, NM  2023-04-30                  Barista   \n",
       "\n",
       "                          Title  \\\n",
       "0         Good work envioroment   \n",
       "1  Very stressful and UNDERPAID   \n",
       "2         Little accountability   \n",
       "3              Worst Management   \n",
       "4                          Fun    \n",
       "\n",
       "                                              Review  Rating  \\\n",
       "0  1 good company work tata 2 new company 3 good ...     4.0   \n",
       "1  stressful environment dealing people think ent...     1.0   \n",
       "2  little accountability hard worker burnt manage...     4.0   \n",
       "3  worked 3 store managers 9 month tenure starbuc...     2.0   \n",
       "4  really enjoyed working like 2 years managers p...     4.0   \n",
       "\n",
       "                                        reviewTokens  \\\n",
       "0  [1, good, company, work, tata, 2, new, company...   \n",
       "1  [stressful, environment, dealing, people, thin...   \n",
       "2  [little, accountability, hard, worker, burnt, ...   \n",
       "3  [worked, 3, store, manager, 9, month, tenure, ...   \n",
       "4  [really, enjoyed, working, like, 2, year, mana...   \n",
       "\n",
       "                                        lemsentances  \n",
       "0  1 good company work tata 2 new company 3 good ...  \n",
       "1  stressful environment dealing people think ent...  \n",
       "2  little accountability hard worker burnt manage...  \n",
       "3  worked 3 store manager 9 month tenure starbuck...  \n",
       "4  really enjoyed working like 2 year manager pro...  "
      ]
     },
     "execution_count": 35,
     "metadata": {},
     "output_type": "execute_result"
    }
   ],
   "source": [
    "datac.head()"
   ]
  },
  {
   "cell_type": "code",
   "execution_count": null,
   "id": "26ee0dc4",
   "metadata": {
    "scrolled": true
   },
   "outputs": [],
   "source": []
  },
  {
   "cell_type": "markdown",
   "id": "da748488",
   "metadata": {},
   "source": [
    "### Spliting the data into train and test"
   ]
  },
  {
   "cell_type": "code",
   "execution_count": 36,
   "id": "9a7b3a88",
   "metadata": {},
   "outputs": [],
   "source": [
    "from sklearn.model_selection import train_test_split"
   ]
  },
  {
   "cell_type": "code",
   "execution_count": 37,
   "id": "d86fc550",
   "metadata": {},
   "outputs": [],
   "source": [
    "x=datac[[\"lemsentances\"]]\n",
    "y=datac[[\"Rating\"]]\n",
    "\n",
    "xTrain,xTest,yTrain,yTest=train_test_split(x,y,\n",
    "                                          test_size=0.2)"
   ]
  },
  {
   "cell_type": "code",
   "execution_count": null,
   "id": "3ba3c035",
   "metadata": {},
   "outputs": [],
   "source": []
  },
  {
   "cell_type": "markdown",
   "id": "895fe6c2",
   "metadata": {},
   "source": [
    "## Creating a model for countvectorizer"
   ]
  },
  {
   "cell_type": "markdown",
   "id": "9ddfdce3",
   "metadata": {},
   "source": [
    "### For bag of unigrams"
   ]
  },
  {
   "cell_type": "code",
   "execution_count": 41,
   "id": "263c9841",
   "metadata": {},
   "outputs": [],
   "source": [
    "from sklearn.feature_extraction.text import CountVectorizer\n",
    "countvectorizer=CountVectorizer()"
   ]
  },
  {
   "cell_type": "code",
   "execution_count": 42,
   "id": "eccda153",
   "metadata": {},
   "outputs": [
    {
     "data": {
      "text/plain": [
       "array([[0, 0, 0, ..., 0, 0, 0],\n",
       "       [0, 0, 0, ..., 0, 0, 0],\n",
       "       [0, 0, 0, ..., 0, 0, 0],\n",
       "       ...,\n",
       "       [0, 0, 0, ..., 0, 0, 0],\n",
       "       [0, 0, 0, ..., 0, 0, 0],\n",
       "       [0, 0, 0, ..., 0, 0, 0]], dtype=int64)"
      ]
     },
     "execution_count": 42,
     "metadata": {},
     "output_type": "execute_result"
    }
   ],
   "source": [
    "unixTrain=countvectorizer.fit_transform(xTrain[\"lemsentances\"])\n",
    "unixTrain.toarray()"
   ]
  },
  {
   "cell_type": "code",
   "execution_count": 43,
   "id": "c97e24ae",
   "metadata": {},
   "outputs": [
    {
     "data": {
      "text/plain": [
       "array([[0, 0, 0, ..., 0, 0, 0],\n",
       "       [0, 0, 0, ..., 0, 0, 0],\n",
       "       [0, 0, 0, ..., 0, 0, 0],\n",
       "       ...,\n",
       "       [0, 0, 0, ..., 0, 0, 0],\n",
       "       [0, 0, 0, ..., 0, 0, 0],\n",
       "       [0, 0, 0, ..., 0, 0, 0]], dtype=int64)"
      ]
     },
     "execution_count": 43,
     "metadata": {},
     "output_type": "execute_result"
    }
   ],
   "source": [
    "unixTest=countvectorizer.transform(xTest[\"lemsentances\"])\n",
    "unixTest.toarray()"
   ]
  },
  {
   "cell_type": "markdown",
   "id": "874c1b16",
   "metadata": {},
   "source": [
    "## Creating a logistic regression model"
   ]
  },
  {
   "cell_type": "code",
   "execution_count": 44,
   "id": "f55e9209",
   "metadata": {},
   "outputs": [],
   "source": [
    "\n",
    "from sklearn.linear_model import LogisticRegression\n",
    "from sklearn.metrics import accuracy_score as acs\n",
    "from sklearn.metrics import confusion_matrix\n",
    "\n",
    "LR=LogisticRegression()"
   ]
  },
  {
   "cell_type": "code",
   "execution_count": 45,
   "id": "b8d43421",
   "metadata": {},
   "outputs": [
    {
     "name": "stderr",
     "output_type": "stream",
     "text": [
      "C:\\Users\\sreya\\anaconda3\\lib\\site-packages\\sklearn\\utils\\validation.py:993: DataConversionWarning: A column-vector y was passed when a 1d array was expected. Please change the shape of y to (n_samples, ), for example using ravel().\n",
      "  y = column_or_1d(y, warn=True)\n",
      "C:\\Users\\sreya\\anaconda3\\lib\\site-packages\\sklearn\\linear_model\\_logistic.py:814: ConvergenceWarning: lbfgs failed to converge (status=1):\n",
      "STOP: TOTAL NO. of ITERATIONS REACHED LIMIT.\n",
      "\n",
      "Increase the number of iterations (max_iter) or scale the data as shown in:\n",
      "    https://scikit-learn.org/stable/modules/preprocessing.html\n",
      "Please also refer to the documentation for alternative solver options:\n",
      "    https://scikit-learn.org/stable/modules/linear_model.html#logistic-regression\n",
      "  n_iter_i = _check_optimize_result(\n"
     ]
    }
   ],
   "source": [
    "LR.fit(unixTrain,yTrain)\n",
    "\n",
    "YTrainpred=LR.predict(unixTrain)\n",
    "YTestpred=LR.predict(unixTest)"
   ]
  },
  {
   "cell_type": "code",
   "execution_count": 46,
   "id": "0f263cbb",
   "metadata": {},
   "outputs": [
    {
     "data": {
      "text/plain": [
       "(0.9011752136752137, 0.39173789173789175)"
      ]
     },
     "execution_count": 46,
     "metadata": {},
     "output_type": "execute_result"
    }
   ],
   "source": [
    "# checking the accuracy score and confusion matrix\n",
    "acs(yTrain,YTrainpred),acs(yTest,YTestpred)"
   ]
  },
  {
   "cell_type": "code",
   "execution_count": 47,
   "id": "a569b868",
   "metadata": {},
   "outputs": [
    {
     "data": {
      "text/plain": [
       "(array([[ 602,    2,   12,    2,    7],\n",
       "        [   2,  560,   38,   12,   13],\n",
       "        [   3,    3, 1438,  102,   44],\n",
       "        [   3,    0,   91, 1353,   94],\n",
       "        [   1,    1,   47,   78, 1108]], dtype=int64),\n",
       " array([[ 57,  32,  46,  16,   6],\n",
       "        [ 39,  30,  62,  30,  11],\n",
       "        [ 39,  43, 161, 111,  49],\n",
       "        [  9,  11,  90, 152, 102],\n",
       "        [  2,   4,  42, 110, 150]], dtype=int64))"
      ]
     },
     "execution_count": 47,
     "metadata": {},
     "output_type": "execute_result"
    }
   ],
   "source": [
    "confusion_matrix(yTrain,YTrainpred),confusion_matrix(yTest,YTestpred)"
   ]
  },
  {
   "cell_type": "markdown",
   "id": "4900097f",
   "metadata": {},
   "source": [
    "### For bag of uni-bi grams"
   ]
  },
  {
   "cell_type": "code",
   "execution_count": 48,
   "id": "202ff3d5",
   "metadata": {},
   "outputs": [
    {
     "data": {
      "text/plain": [
       "array([[0, 0, 0, ..., 0, 0, 0],\n",
       "       [0, 0, 0, ..., 0, 0, 0],\n",
       "       [0, 0, 0, ..., 0, 0, 0],\n",
       "       ...,\n",
       "       [0, 0, 0, ..., 0, 0, 0],\n",
       "       [0, 0, 0, ..., 0, 0, 0],\n",
       "       [0, 0, 0, ..., 0, 0, 0]], dtype=int64)"
      ]
     },
     "execution_count": 48,
     "metadata": {},
     "output_type": "execute_result"
    }
   ],
   "source": [
    "countvectorizer=CountVectorizer(ngram_range=(1,2))\n",
    "\n",
    "bixTrain=countvectorizer.fit_transform(xTrain[\"lemsentances\"])\n",
    "bixTrain.toarray()\n"
   ]
  },
  {
   "cell_type": "code",
   "execution_count": 49,
   "id": "39f3259f",
   "metadata": {},
   "outputs": [
    {
     "data": {
      "text/plain": [
       "array([[0, 0, 0, ..., 0, 0, 0],\n",
       "       [0, 0, 0, ..., 0, 0, 0],\n",
       "       [0, 0, 0, ..., 0, 0, 0],\n",
       "       ...,\n",
       "       [0, 0, 0, ..., 0, 0, 0],\n",
       "       [0, 0, 0, ..., 0, 0, 0],\n",
       "       [0, 0, 0, ..., 0, 0, 0]], dtype=int64)"
      ]
     },
     "execution_count": 49,
     "metadata": {},
     "output_type": "execute_result"
    }
   ],
   "source": [
    "bixTest=countvectorizer.transform(xTest[\"lemsentances\"])\n",
    "bixTest.toarray()"
   ]
  },
  {
   "cell_type": "markdown",
   "id": "e1bc1e96",
   "metadata": {},
   "source": [
    "## Creating a logistic regression model"
   ]
  },
  {
   "cell_type": "code",
   "execution_count": 50,
   "id": "de22c985",
   "metadata": {},
   "outputs": [
    {
     "name": "stderr",
     "output_type": "stream",
     "text": [
      "C:\\Users\\sreya\\anaconda3\\lib\\site-packages\\sklearn\\utils\\validation.py:993: DataConversionWarning: A column-vector y was passed when a 1d array was expected. Please change the shape of y to (n_samples, ), for example using ravel().\n",
      "  y = column_or_1d(y, warn=True)\n",
      "C:\\Users\\sreya\\anaconda3\\lib\\site-packages\\sklearn\\linear_model\\_logistic.py:814: ConvergenceWarning: lbfgs failed to converge (status=1):\n",
      "STOP: TOTAL NO. of ITERATIONS REACHED LIMIT.\n",
      "\n",
      "Increase the number of iterations (max_iter) or scale the data as shown in:\n",
      "    https://scikit-learn.org/stable/modules/preprocessing.html\n",
      "Please also refer to the documentation for alternative solver options:\n",
      "    https://scikit-learn.org/stable/modules/linear_model.html#logistic-regression\n",
      "  n_iter_i = _check_optimize_result(\n"
     ]
    }
   ],
   "source": [
    "LR.fit(bixTrain,yTrain)\n",
    "\n",
    "YTrainpred=LR.predict(bixTrain)\n",
    "YTestpred=LR.predict(bixTest)"
   ]
  },
  {
   "cell_type": "code",
   "execution_count": 51,
   "id": "35c86db8",
   "metadata": {},
   "outputs": [
    {
     "data": {
      "text/plain": [
       "(0.999465811965812, 0.4031339031339031)"
      ]
     },
     "execution_count": 51,
     "metadata": {},
     "output_type": "execute_result"
    }
   ],
   "source": [
    "# checking the accuracy score and confusion matrix\n",
    "\n",
    "acs(yTrain,YTrainpred),acs(yTest,YTestpred)"
   ]
  },
  {
   "cell_type": "code",
   "execution_count": 52,
   "id": "02ce0510",
   "metadata": {},
   "outputs": [
    {
     "data": {
      "text/plain": [
       "(array([[ 625,    0,    0,    0,    0],\n",
       "        [   0,  624,    1,    0,    0],\n",
       "        [   0,    0, 1590,    0,    0],\n",
       "        [   0,    0,    0, 1541,    0],\n",
       "        [   0,    0,    1,    1, 1233]], dtype=int64),\n",
       " array([[ 51,  24,  65,   8,   9],\n",
       "        [ 34,  28,  80,  23,   7],\n",
       "        [ 32,  29, 182, 109,  51],\n",
       "        [  3,   5,  98, 160,  98],\n",
       "        [  3,   2,  49, 109, 145]], dtype=int64))"
      ]
     },
     "execution_count": 52,
     "metadata": {},
     "output_type": "execute_result"
    }
   ],
   "source": [
    "confusion_matrix(yTrain,YTrainpred),confusion_matrix(yTest,YTestpred)"
   ]
  },
  {
   "cell_type": "markdown",
   "id": "d1a69512",
   "metadata": {},
   "source": [
    " "
   ]
  },
  {
   "cell_type": "code",
   "execution_count": null,
   "id": "6b410338",
   "metadata": {},
   "outputs": [],
   "source": []
  },
  {
   "cell_type": "markdown",
   "id": "3df45758",
   "metadata": {},
   "source": [
    "## Cretaing a model for TfidfVectorizer"
   ]
  },
  {
   "cell_type": "markdown",
   "id": "3b3ee0da",
   "metadata": {},
   "source": [
    "### for TfidfVectorizer bag of unigrams"
   ]
  },
  {
   "cell_type": "code",
   "execution_count": 54,
   "id": "6a05a4a8",
   "metadata": {},
   "outputs": [
    {
     "data": {
      "text/plain": [
       "array([[0., 0., 0., ..., 0., 0., 0.],\n",
       "       [0., 0., 0., ..., 0., 0., 0.],\n",
       "       [0., 0., 0., ..., 0., 0., 0.],\n",
       "       ...,\n",
       "       [0., 0., 0., ..., 0., 0., 0.],\n",
       "       [0., 0., 0., ..., 0., 0., 0.],\n",
       "       [0., 0., 0., ..., 0., 0., 0.]])"
      ]
     },
     "execution_count": 54,
     "metadata": {},
     "output_type": "execute_result"
    }
   ],
   "source": [
    "from sklearn.feature_extraction.text import TfidfVectorizer\n",
    "\n",
    "tfVec=TfidfVectorizer()\n",
    "\n",
    "tfunixTrain=tfVec.fit_transform(xTrain[\"lemsentances\"])\n",
    "tfunixTrain.toarray()"
   ]
  },
  {
   "cell_type": "code",
   "execution_count": 55,
   "id": "401d7cfe",
   "metadata": {},
   "outputs": [
    {
     "data": {
      "text/plain": [
       "array([[0., 0., 0., ..., 0., 0., 0.],\n",
       "       [0., 0., 0., ..., 0., 0., 0.],\n",
       "       [0., 0., 0., ..., 0., 0., 0.],\n",
       "       ...,\n",
       "       [0., 0., 0., ..., 0., 0., 0.],\n",
       "       [0., 0., 0., ..., 0., 0., 0.],\n",
       "       [0., 0., 0., ..., 0., 0., 0.]])"
      ]
     },
     "execution_count": 55,
     "metadata": {},
     "output_type": "execute_result"
    }
   ],
   "source": [
    "tfunixTest=tfVec.transform(xTest[\"lemsentances\"])\n",
    "tfunixTest.toarray()"
   ]
  },
  {
   "cell_type": "markdown",
   "id": "372732cb",
   "metadata": {},
   "source": [
    "## Creating a logistic regression model"
   ]
  },
  {
   "cell_type": "code",
   "execution_count": 56,
   "id": "6a5c9f15",
   "metadata": {},
   "outputs": [
    {
     "name": "stderr",
     "output_type": "stream",
     "text": [
      "C:\\Users\\sreya\\anaconda3\\lib\\site-packages\\sklearn\\utils\\validation.py:993: DataConversionWarning: A column-vector y was passed when a 1d array was expected. Please change the shape of y to (n_samples, ), for example using ravel().\n",
      "  y = column_or_1d(y, warn=True)\n",
      "C:\\Users\\sreya\\anaconda3\\lib\\site-packages\\sklearn\\linear_model\\_logistic.py:814: ConvergenceWarning: lbfgs failed to converge (status=1):\n",
      "STOP: TOTAL NO. of ITERATIONS REACHED LIMIT.\n",
      "\n",
      "Increase the number of iterations (max_iter) or scale the data as shown in:\n",
      "    https://scikit-learn.org/stable/modules/preprocessing.html\n",
      "Please also refer to the documentation for alternative solver options:\n",
      "    https://scikit-learn.org/stable/modules/linear_model.html#logistic-regression\n",
      "  n_iter_i = _check_optimize_result(\n"
     ]
    }
   ],
   "source": [
    "LR.fit(tfunixTrain,yTrain)\n",
    "\n",
    "YTrainpred=LR.predict(tfunixTrain)\n",
    "YTestpred=LR.predict(tfunixTest)"
   ]
  },
  {
   "cell_type": "code",
   "execution_count": 57,
   "id": "45d9262f",
   "metadata": {},
   "outputs": [
    {
     "data": {
      "text/plain": [
       "(0.7168803418803419, 0.4180911680911681)"
      ]
     },
     "execution_count": 57,
     "metadata": {},
     "output_type": "execute_result"
    }
   ],
   "source": [
    "# checking the accuracy score and confusion matrix\n",
    "\n",
    "acs(yTrain,YTrainpred),acs(yTest,YTestpred)"
   ]
  },
  {
   "cell_type": "code",
   "execution_count": 58,
   "id": "ef65bd2c",
   "metadata": {},
   "outputs": [
    {
     "data": {
      "text/plain": [
       "(array([[ 422,   14,  149,   28,   12],\n",
       "        [  40,  256,  242,   59,   28],\n",
       "        [  22,    9, 1279,  187,   93],\n",
       "        [   8,    1,  214, 1155,  163],\n",
       "        [   2,    2,  121,  196,  914]], dtype=int64),\n",
       " array([[ 47,  16,  76,   9,   9],\n",
       "        [ 24,  17, 103,  19,   9],\n",
       "        [ 21,  18, 199, 119,  46],\n",
       "        [  4,   1,  99, 171,  89],\n",
       "        [  2,   2,  44, 107, 153]], dtype=int64))"
      ]
     },
     "execution_count": 58,
     "metadata": {},
     "output_type": "execute_result"
    }
   ],
   "source": [
    "confusion_matrix(yTrain,YTrainpred),confusion_matrix(yTest,YTestpred)"
   ]
  },
  {
   "cell_type": "code",
   "execution_count": null,
   "id": "25793c5e",
   "metadata": {},
   "outputs": [],
   "source": []
  },
  {
   "cell_type": "markdown",
   "id": "3dc41e04",
   "metadata": {},
   "source": [
    "### for TfidfVectorizer bag of uni-bi grams"
   ]
  },
  {
   "cell_type": "code",
   "execution_count": 59,
   "id": "42f4fd30",
   "metadata": {},
   "outputs": [
    {
     "data": {
      "text/plain": [
       "array([[0., 0., 0., ..., 0., 0., 0.],\n",
       "       [0., 0., 0., ..., 0., 0., 0.],\n",
       "       [0., 0., 0., ..., 0., 0., 0.],\n",
       "       ...,\n",
       "       [0., 0., 0., ..., 0., 0., 0.],\n",
       "       [0., 0., 0., ..., 0., 0., 0.],\n",
       "       [0., 0., 0., ..., 0., 0., 0.]])"
      ]
     },
     "execution_count": 59,
     "metadata": {},
     "output_type": "execute_result"
    }
   ],
   "source": [
    "tfVec=TfidfVectorizer(ngram_range = (1,2))\n",
    "\n",
    "tfbixTrain=tfVec.fit_transform(xTrain[\"lemsentances\"])\n",
    "tfbixTrain.toarray()"
   ]
  },
  {
   "cell_type": "code",
   "execution_count": 60,
   "id": "6023dea0",
   "metadata": {},
   "outputs": [
    {
     "data": {
      "text/plain": [
       "array([[0., 0., 0., ..., 0., 0., 0.],\n",
       "       [0., 0., 0., ..., 0., 0., 0.],\n",
       "       [0., 0., 0., ..., 0., 0., 0.],\n",
       "       ...,\n",
       "       [0., 0., 0., ..., 0., 0., 0.],\n",
       "       [0., 0., 0., ..., 0., 0., 0.],\n",
       "       [0., 0., 0., ..., 0., 0., 0.]])"
      ]
     },
     "execution_count": 60,
     "metadata": {},
     "output_type": "execute_result"
    }
   ],
   "source": [
    "tfbixTest=tfVec.transform(xTrain[\"lemsentances\"])\n",
    "tfbixTest.toarray()"
   ]
  },
  {
   "cell_type": "code",
   "execution_count": null,
   "id": "495be333",
   "metadata": {},
   "outputs": [],
   "source": []
  },
  {
   "cell_type": "markdown",
   "id": "ebff380c",
   "metadata": {},
   "source": [
    "## Creating a logistic regression model"
   ]
  },
  {
   "cell_type": "code",
   "execution_count": 66,
   "id": "3f85f466",
   "metadata": {},
   "outputs": [
    {
     "name": "stderr",
     "output_type": "stream",
     "text": [
      "C:\\Users\\sreya\\anaconda3\\lib\\site-packages\\sklearn\\utils\\validation.py:993: DataConversionWarning: A column-vector y was passed when a 1d array was expected. Please change the shape of y to (n_samples, ), for example using ravel().\n",
      "  y = column_or_1d(y, warn=True)\n"
     ]
    }
   ],
   "source": [
    "LR.fit(tfbixTrain,yTrain)\n",
    "\n",
    "yTrainpred=LR.predict(tfbixTrain)\n",
    "yTestpred=LR.predict(tfbixTest)"
   ]
  },
  {
   "cell_type": "code",
   "execution_count": 68,
   "id": "9982aeba",
   "metadata": {},
   "outputs": [
    {
     "data": {
      "text/plain": [
       "0.9024216524216524"
      ]
     },
     "execution_count": 68,
     "metadata": {},
     "output_type": "execute_result"
    }
   ],
   "source": [
    "acs(yTrain,yTrainpred)"
   ]
  },
  {
   "cell_type": "code",
   "execution_count": 69,
   "id": "dbc7577b",
   "metadata": {},
   "outputs": [
    {
     "data": {
      "text/plain": [
       "array([[ 513,    0,   89,   13,   10],\n",
       "       [   0,  396,  174,   35,   20],\n",
       "       [   0,    0, 1531,   32,   27],\n",
       "       [   0,    0,   17, 1502,   22],\n",
       "       [   0,    0,   58,   51, 1126]], dtype=int64)"
      ]
     },
     "execution_count": 69,
     "metadata": {},
     "output_type": "execute_result"
    }
   ],
   "source": [
    "confusion_matrix(yTrain,YTrainpred)"
   ]
  },
  {
   "cell_type": "code",
   "execution_count": null,
   "id": "542d1b2e",
   "metadata": {},
   "outputs": [],
   "source": []
  },
  {
   "cell_type": "markdown",
   "id": "ce3c321a",
   "metadata": {},
   "source": [
    "## Conclusion"
   ]
  },
  {
   "cell_type": "markdown",
   "id": "1199f4ce",
   "metadata": {},
   "source": [
    "- For TfidfVectorizer accuracy score is low as compare to countvectorizer\n",
    "- For countvectorizer accuracy score is pretty good for train data but very bad for test data"
   ]
  },
  {
   "cell_type": "code",
   "execution_count": null,
   "id": "eb74f707",
   "metadata": {},
   "outputs": [],
   "source": []
  }
 ],
 "metadata": {
  "kernelspec": {
   "display_name": "Python 3 (ipykernel)",
   "language": "python",
   "name": "python3"
  },
  "language_info": {
   "codemirror_mode": {
    "name": "ipython",
    "version": 3
   },
   "file_extension": ".py",
   "mimetype": "text/x-python",
   "name": "python",
   "nbconvert_exporter": "python",
   "pygments_lexer": "ipython3",
   "version": "3.9.13"
  }
 },
 "nbformat": 4,
 "nbformat_minor": 5
}
