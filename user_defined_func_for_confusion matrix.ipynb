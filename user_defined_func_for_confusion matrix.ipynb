{
 "cells": [
  {
   "cell_type": "code",
   "execution_count": 26,
   "id": "0d90413a",
   "metadata": {},
   "outputs": [],
   "source": [
    "import pandas as pd, numpy as np,sklearn"
   ]
  },
  {
   "cell_type": "code",
   "execution_count": 67,
   "id": "b2e98ec8",
   "metadata": {},
   "outputs": [],
   "source": [
    "\n",
    "actual = [0,1,0,1,1,1,1,1,0,0,0,0,0,0,0,1,0,0,1]\n",
    "predicted = [0,1,1,1,0,1,0,0,0,0,1,1,0,0,0,0,0,1,0]"
   ]
  },
  {
   "cell_type": "code",
   "execution_count": null,
   "id": "feda30cc",
   "metadata": {},
   "outputs": [],
   "source": []
  },
  {
   "cell_type": "code",
   "execution_count": 51,
   "id": "5cfac625",
   "metadata": {},
   "outputs": [],
   "source": [
    "from sklearn.metrics import classification_report"
   ]
  },
  {
   "cell_type": "code",
   "execution_count": 68,
   "id": "39ecc6fb",
   "metadata": {},
   "outputs": [
    {
     "name": "stdout",
     "output_type": "stream",
     "text": [
      "              precision    recall  f1-score   support\n",
      "\n",
      "           0       0.58      0.64      0.61        11\n",
      "           1       0.43      0.38      0.40         8\n",
      "\n",
      "    accuracy                           0.53        19\n",
      "   macro avg       0.51      0.51      0.50        19\n",
      "weighted avg       0.52      0.53      0.52        19\n",
      "\n"
     ]
    }
   ],
   "source": [
    "# Finding all the values all the value for class_1 and class_0 using inbuilt class in sklearn for comparison\n",
    "# with user defined and builtin function\n",
    "\n",
    "print(classification_report(actual,predicted))"
   ]
  },
  {
   "cell_type": "code",
   "execution_count": null,
   "id": "3a1bf9de",
   "metadata": {},
   "outputs": [],
   "source": []
  },
  {
   "cell_type": "markdown",
   "id": "1d0052d6",
   "metadata": {},
   "source": [
    "## User defined function for confusion matrix with 2 unique classes"
   ]
  },
  {
   "cell_type": "code",
   "execution_count": 53,
   "id": "2c0b648c",
   "metadata": {},
   "outputs": [],
   "source": [
    "def calculate_matrix(actual,predicted):\n",
    "    \n",
    "    tp = 0\n",
    "    tn = 0\n",
    "    fp = 0\n",
    "    fn = 0\n",
    "    \n",
    "    # Assigning the values for all the points comparing with actual points and predicted points\n",
    "    \n",
    "    for i in range(len(actual)):\n",
    "        if actual[i] ==1 and predicted[i] ==1:\n",
    "            tp += 1\n",
    "        elif  actual[i] == 1  and predicted[i] == 0:\n",
    "            fn += 1\n",
    "        elif  actual[i] == 0 and predicted[i] == 1:\n",
    "            fp += 1\n",
    "        elif actual[i] == 0  and predicted[i] == 0:\n",
    "            tn += 1\n",
    "            \n",
    "    # Calculating precision, recall, F1_score using confusion_matrix mathematical formulas for positive data points\n",
    "    \n",
    "    precision_true = tp / (tp+fp)           \n",
    "    recall_true = tp / (tp+fn)\n",
    "    f1score_true = 2 * (precision_true * recall_true) / (precision_true + recall_true)\n",
    "    accuracy_true = tp/(tp+tn+fp+fn)\n",
    "    \n",
    "    # Replicating the same thing for negetive data points\n",
    "    \n",
    "    precision_false = tn / (tn+fn)\n",
    "    recall_false = tn / (tn + fp)\n",
    "    f1score_false =  2 * (precision_false * recall_false) / (precision_false + recall_false)\n",
    "    accuracy_false = tn / (tp+tn+fp+fn)\n",
    "    \n",
    "    # After getting all the points creating a dataframe to arrange it respectively\n",
    "    metrics = pd.DataFrame({'Precision':[precision_true,precision_false],'Recall':[recall_true,recall_false],\n",
    "                            'f1_score':[f1score_true,f1score_false],'Accuracy':[accuracy_true,accuracy_false]},\n",
    "                           index=['class_1','class_0'])\n",
    "    \n",
    "    return metrics\n",
    "        \n",
    "        \n",
    "        "
   ]
  },
  {
   "cell_type": "code",
   "execution_count": 69,
   "id": "79d6d330",
   "metadata": {},
   "outputs": [
    {
     "data": {
      "text/html": [
       "<div>\n",
       "<style scoped>\n",
       "    .dataframe tbody tr th:only-of-type {\n",
       "        vertical-align: middle;\n",
       "    }\n",
       "\n",
       "    .dataframe tbody tr th {\n",
       "        vertical-align: top;\n",
       "    }\n",
       "\n",
       "    .dataframe thead th {\n",
       "        text-align: right;\n",
       "    }\n",
       "</style>\n",
       "<table border=\"1\" class=\"dataframe\">\n",
       "  <thead>\n",
       "    <tr style=\"text-align: right;\">\n",
       "      <th></th>\n",
       "      <th>Precision</th>\n",
       "      <th>Recall</th>\n",
       "      <th>f1_score</th>\n",
       "      <th>Accuracy</th>\n",
       "    </tr>\n",
       "  </thead>\n",
       "  <tbody>\n",
       "    <tr>\n",
       "      <th>class_1</th>\n",
       "      <td>0.428571</td>\n",
       "      <td>0.375000</td>\n",
       "      <td>0.400000</td>\n",
       "      <td>0.157895</td>\n",
       "    </tr>\n",
       "    <tr>\n",
       "      <th>class_0</th>\n",
       "      <td>0.583333</td>\n",
       "      <td>0.636364</td>\n",
       "      <td>0.608696</td>\n",
       "      <td>0.368421</td>\n",
       "    </tr>\n",
       "  </tbody>\n",
       "</table>\n",
       "</div>"
      ],
      "text/plain": [
       "         Precision    Recall  f1_score  Accuracy\n",
       "class_1   0.428571  0.375000  0.400000  0.157895\n",
       "class_0   0.583333  0.636364  0.608696  0.368421"
      ]
     },
     "execution_count": 69,
     "metadata": {},
     "output_type": "execute_result"
    }
   ],
   "source": [
    "calculate_matrix(actual,predicted)"
   ]
  },
  {
   "cell_type": "code",
   "execution_count": null,
   "id": "df08ee02",
   "metadata": {},
   "outputs": [],
   "source": []
  }
 ],
 "metadata": {
  "kernelspec": {
   "display_name": "Python 3 (ipykernel)",
   "language": "python",
   "name": "python3"
  },
  "language_info": {
   "codemirror_mode": {
    "name": "ipython",
    "version": 3
   },
   "file_extension": ".py",
   "mimetype": "text/x-python",
   "name": "python",
   "nbconvert_exporter": "python",
   "pygments_lexer": "ipython3",
   "version": "3.9.13"
  }
 },
 "nbformat": 4,
 "nbformat_minor": 5
}
