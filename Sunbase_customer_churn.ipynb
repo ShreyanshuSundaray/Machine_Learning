{
 "cells": [
  {
   "cell_type": "code",
   "execution_count": 39,
   "id": "7fe74069",
   "metadata": {},
   "outputs": [],
   "source": [
    "import pandas as pd, numpy as np, matplotlib.pyplot as plt, seaborn as sns\n",
    "import sklearn\n",
    "from sklearn.model_selection import train_test_split\n",
    "from sklearn.preprocessing import StandardScaler,PowerTransformer,OneHotEncoder,OrdinalEncoder\n",
    "from sklearn.ensemble import RandomForestClassifier \n",
    "from sklearn.linear_model import LogisticRegression \n",
    "from sklearn.compose import ColumnTransformer\n",
    "from sklearn.pipeline import Pipeline\n",
    "from sklearn.metrics import classification_report, accuracy_score"
   ]
  },
  {
   "cell_type": "code",
   "execution_count": 2,
   "id": "337665fd",
   "metadata": {},
   "outputs": [],
   "source": [
    "import warnings\n",
    "warnings.filterwarnings(\"ignore\")\n",
    "warnings.simplefilter(action='ignore', category=FutureWarning)\n",
    "warnings.simplefilter(action='ignore', category=DeprecationWarning)\n"
   ]
  },
  {
   "cell_type": "code",
   "execution_count": 3,
   "id": "c87d8f06",
   "metadata": {},
   "outputs": [],
   "source": [
    "df = pd.read_excel(r\"C:\\Users\\sreya\\Downloads\\customer_churn_large_dataset.xlsx\")"
   ]
  },
  {
   "cell_type": "code",
   "execution_count": 4,
   "id": "4992809d",
   "metadata": {},
   "outputs": [
    {
     "data": {
      "text/html": [
       "<div>\n",
       "<style scoped>\n",
       "    .dataframe tbody tr th:only-of-type {\n",
       "        vertical-align: middle;\n",
       "    }\n",
       "\n",
       "    .dataframe tbody tr th {\n",
       "        vertical-align: top;\n",
       "    }\n",
       "\n",
       "    .dataframe thead th {\n",
       "        text-align: right;\n",
       "    }\n",
       "</style>\n",
       "<table border=\"1\" class=\"dataframe\">\n",
       "  <thead>\n",
       "    <tr style=\"text-align: right;\">\n",
       "      <th></th>\n",
       "      <th>CustomerID</th>\n",
       "      <th>Name</th>\n",
       "      <th>Age</th>\n",
       "      <th>Gender</th>\n",
       "      <th>Location</th>\n",
       "      <th>Subscription_Length_Months</th>\n",
       "      <th>Monthly_Bill</th>\n",
       "      <th>Total_Usage_GB</th>\n",
       "      <th>Churn</th>\n",
       "    </tr>\n",
       "  </thead>\n",
       "  <tbody>\n",
       "    <tr>\n",
       "      <th>0</th>\n",
       "      <td>1</td>\n",
       "      <td>Customer_1</td>\n",
       "      <td>63</td>\n",
       "      <td>Male</td>\n",
       "      <td>Los Angeles</td>\n",
       "      <td>17</td>\n",
       "      <td>73.36</td>\n",
       "      <td>236</td>\n",
       "      <td>0</td>\n",
       "    </tr>\n",
       "    <tr>\n",
       "      <th>1</th>\n",
       "      <td>2</td>\n",
       "      <td>Customer_2</td>\n",
       "      <td>62</td>\n",
       "      <td>Female</td>\n",
       "      <td>New York</td>\n",
       "      <td>1</td>\n",
       "      <td>48.76</td>\n",
       "      <td>172</td>\n",
       "      <td>0</td>\n",
       "    </tr>\n",
       "    <tr>\n",
       "      <th>2</th>\n",
       "      <td>3</td>\n",
       "      <td>Customer_3</td>\n",
       "      <td>24</td>\n",
       "      <td>Female</td>\n",
       "      <td>Los Angeles</td>\n",
       "      <td>5</td>\n",
       "      <td>85.47</td>\n",
       "      <td>460</td>\n",
       "      <td>0</td>\n",
       "    </tr>\n",
       "    <tr>\n",
       "      <th>3</th>\n",
       "      <td>4</td>\n",
       "      <td>Customer_4</td>\n",
       "      <td>36</td>\n",
       "      <td>Female</td>\n",
       "      <td>Miami</td>\n",
       "      <td>3</td>\n",
       "      <td>97.94</td>\n",
       "      <td>297</td>\n",
       "      <td>1</td>\n",
       "    </tr>\n",
       "    <tr>\n",
       "      <th>4</th>\n",
       "      <td>5</td>\n",
       "      <td>Customer_5</td>\n",
       "      <td>46</td>\n",
       "      <td>Female</td>\n",
       "      <td>Miami</td>\n",
       "      <td>19</td>\n",
       "      <td>58.14</td>\n",
       "      <td>266</td>\n",
       "      <td>0</td>\n",
       "    </tr>\n",
       "    <tr>\n",
       "      <th>...</th>\n",
       "      <td>...</td>\n",
       "      <td>...</td>\n",
       "      <td>...</td>\n",
       "      <td>...</td>\n",
       "      <td>...</td>\n",
       "      <td>...</td>\n",
       "      <td>...</td>\n",
       "      <td>...</td>\n",
       "      <td>...</td>\n",
       "    </tr>\n",
       "    <tr>\n",
       "      <th>99995</th>\n",
       "      <td>99996</td>\n",
       "      <td>Customer_99996</td>\n",
       "      <td>33</td>\n",
       "      <td>Male</td>\n",
       "      <td>Houston</td>\n",
       "      <td>23</td>\n",
       "      <td>55.13</td>\n",
       "      <td>226</td>\n",
       "      <td>1</td>\n",
       "    </tr>\n",
       "    <tr>\n",
       "      <th>99996</th>\n",
       "      <td>99997</td>\n",
       "      <td>Customer_99997</td>\n",
       "      <td>62</td>\n",
       "      <td>Female</td>\n",
       "      <td>New York</td>\n",
       "      <td>19</td>\n",
       "      <td>61.65</td>\n",
       "      <td>351</td>\n",
       "      <td>0</td>\n",
       "    </tr>\n",
       "    <tr>\n",
       "      <th>99997</th>\n",
       "      <td>99998</td>\n",
       "      <td>Customer_99998</td>\n",
       "      <td>64</td>\n",
       "      <td>Male</td>\n",
       "      <td>Chicago</td>\n",
       "      <td>17</td>\n",
       "      <td>96.11</td>\n",
       "      <td>251</td>\n",
       "      <td>1</td>\n",
       "    </tr>\n",
       "    <tr>\n",
       "      <th>99998</th>\n",
       "      <td>99999</td>\n",
       "      <td>Customer_99999</td>\n",
       "      <td>51</td>\n",
       "      <td>Female</td>\n",
       "      <td>New York</td>\n",
       "      <td>20</td>\n",
       "      <td>49.25</td>\n",
       "      <td>434</td>\n",
       "      <td>1</td>\n",
       "    </tr>\n",
       "    <tr>\n",
       "      <th>99999</th>\n",
       "      <td>100000</td>\n",
       "      <td>Customer_100000</td>\n",
       "      <td>27</td>\n",
       "      <td>Female</td>\n",
       "      <td>Los Angeles</td>\n",
       "      <td>19</td>\n",
       "      <td>76.57</td>\n",
       "      <td>173</td>\n",
       "      <td>1</td>\n",
       "    </tr>\n",
       "  </tbody>\n",
       "</table>\n",
       "<p>100000 rows × 9 columns</p>\n",
       "</div>"
      ],
      "text/plain": [
       "       CustomerID             Name  Age  Gender     Location  \\\n",
       "0               1       Customer_1   63    Male  Los Angeles   \n",
       "1               2       Customer_2   62  Female     New York   \n",
       "2               3       Customer_3   24  Female  Los Angeles   \n",
       "3               4       Customer_4   36  Female        Miami   \n",
       "4               5       Customer_5   46  Female        Miami   \n",
       "...           ...              ...  ...     ...          ...   \n",
       "99995       99996   Customer_99996   33    Male      Houston   \n",
       "99996       99997   Customer_99997   62  Female     New York   \n",
       "99997       99998   Customer_99998   64    Male      Chicago   \n",
       "99998       99999   Customer_99999   51  Female     New York   \n",
       "99999      100000  Customer_100000   27  Female  Los Angeles   \n",
       "\n",
       "       Subscription_Length_Months  Monthly_Bill  Total_Usage_GB  Churn  \n",
       "0                              17         73.36             236      0  \n",
       "1                               1         48.76             172      0  \n",
       "2                               5         85.47             460      0  \n",
       "3                               3         97.94             297      1  \n",
       "4                              19         58.14             266      0  \n",
       "...                           ...           ...             ...    ...  \n",
       "99995                          23         55.13             226      1  \n",
       "99996                          19         61.65             351      0  \n",
       "99997                          17         96.11             251      1  \n",
       "99998                          20         49.25             434      1  \n",
       "99999                          19         76.57             173      1  \n",
       "\n",
       "[100000 rows x 9 columns]"
      ]
     },
     "execution_count": 4,
     "metadata": {},
     "output_type": "execute_result"
    }
   ],
   "source": [
    "df"
   ]
  },
  {
   "cell_type": "code",
   "execution_count": 5,
   "id": "82c25dbc",
   "metadata": {},
   "outputs": [
    {
     "name": "stdout",
     "output_type": "stream",
     "text": [
      "################ Shape ####################\n",
      "(100000, 9)\n",
      "############### Columns ###################\n",
      "Index(['CustomerID', 'Name', 'Age', 'Gender', 'Location',\n",
      "       'Subscription_Length_Months', 'Monthly_Bill', 'Total_Usage_GB',\n",
      "       'Churn'],\n",
      "      dtype='object')\n",
      "############### Types #####################\n",
      "CustomerID                      int64\n",
      "Name                           object\n",
      "Age                             int64\n",
      "Gender                         object\n",
      "Location                       object\n",
      "Subscription_Length_Months      int64\n",
      "Monthly_Bill                  float64\n",
      "Total_Usage_GB                  int64\n",
      "Churn                           int64\n",
      "dtype: object\n",
      "############### Head ######################\n",
      "   CustomerID        Name  Age  Gender     Location  \\\n",
      "0           1  Customer_1   63    Male  Los Angeles   \n",
      "1           2  Customer_2   62  Female     New York   \n",
      "2           3  Customer_3   24  Female  Los Angeles   \n",
      "3           4  Customer_4   36  Female        Miami   \n",
      "4           5  Customer_5   46  Female        Miami   \n",
      "\n",
      "   Subscription_Length_Months  Monthly_Bill  Total_Usage_GB  Churn  \n",
      "0                          17         73.36             236      0  \n",
      "1                           1         48.76             172      0  \n",
      "2                           5         85.47             460      0  \n",
      "3                           3         97.94             297      1  \n",
      "4                          19         58.14             266      0  \n",
      "############### Tail ######################\n",
      "       CustomerID             Name  Age  Gender     Location  \\\n",
      "99995       99996   Customer_99996   33    Male      Houston   \n",
      "99996       99997   Customer_99997   62  Female     New York   \n",
      "99997       99998   Customer_99998   64    Male      Chicago   \n",
      "99998       99999   Customer_99999   51  Female     New York   \n",
      "99999      100000  Customer_100000   27  Female  Los Angeles   \n",
      "\n",
      "       Subscription_Length_Months  Monthly_Bill  Total_Usage_GB  Churn  \n",
      "99995                          23         55.13             226      1  \n",
      "99996                          19         61.65             351      0  \n",
      "99997                          17         96.11             251      1  \n",
      "99998                          20         49.25             434      1  \n",
      "99999                          19         76.57             173      1  \n",
      "############### Describe ###################\n",
      "                               count          mean           std   min  \\\n",
      "CustomerID                  100000.0  50000.500000  28867.657797   1.0   \n",
      "Age                         100000.0     44.027020     15.280283  18.0   \n",
      "Subscription_Length_Months  100000.0     12.490100      6.926461   1.0   \n",
      "Monthly_Bill                100000.0     65.053197     20.230696  30.0   \n",
      "Total_Usage_GB              100000.0    274.393650    130.463063  50.0   \n",
      "Churn                       100000.0      0.497790      0.499998   0.0   \n",
      "\n",
      "                                 25%       50%       75%       max  \n",
      "CustomerID                  25000.75  50000.50  75000.25  100000.0  \n",
      "Age                            31.00     44.00     57.00      70.0  \n",
      "Subscription_Length_Months      6.00     12.00     19.00      24.0  \n",
      "Monthly_Bill                   47.54     65.01     82.64     100.0  \n",
      "Total_Usage_GB                161.00    274.00    387.00     500.0  \n",
      "Churn                           0.00      0.00      1.00       1.0  \n"
     ]
    }
   ],
   "source": [
    "def check_df(dataframe):\n",
    "    print(\"################ Shape ####################\")\n",
    "    print(dataframe.shape)\n",
    "    print(\"############### Columns ###################\")\n",
    "    print(dataframe.columns)\n",
    "    print(\"############### Types #####################\")\n",
    "    print(dataframe.dtypes)\n",
    "    print(\"############### Head ######################\")\n",
    "    print(dataframe.head())\n",
    "    print(\"############### Tail ######################\")\n",
    "    print(dataframe.tail())\n",
    "    print(\"############### Describe ###################\")\n",
    "    print(dataframe.describe().T)\n",
    "\n",
    "check_df(df)"
   ]
  },
  {
   "cell_type": "code",
   "execution_count": 6,
   "id": "858b1e4e",
   "metadata": {},
   "outputs": [
    {
     "data": {
      "text/plain": [
       "CustomerID                      int64\n",
       "Name                           object\n",
       "Age                             int64\n",
       "Gender                         object\n",
       "Location                       object\n",
       "Subscription_Length_Months      int64\n",
       "Monthly_Bill                  float64\n",
       "Total_Usage_GB                  int64\n",
       "Churn                           int64\n",
       "dtype: object"
      ]
     },
     "execution_count": 6,
     "metadata": {},
     "output_type": "execute_result"
    }
   ],
   "source": [
    "df.dtypes"
   ]
  },
  {
   "cell_type": "markdown",
   "id": "4319e957",
   "metadata": {},
   "source": [
    "- As we can see Churn should be in object."
   ]
  },
  {
   "cell_type": "code",
   "execution_count": null,
   "id": "413f721a",
   "metadata": {},
   "outputs": [],
   "source": []
  },
  {
   "cell_type": "code",
   "execution_count": 7,
   "id": "be85950e",
   "metadata": {},
   "outputs": [
    {
     "data": {
      "text/plain": [
       "CustomerID                    0\n",
       "Name                          0\n",
       "Age                           0\n",
       "Gender                        0\n",
       "Location                      0\n",
       "Subscription_Length_Months    0\n",
       "Monthly_Bill                  0\n",
       "Total_Usage_GB                0\n",
       "Churn                         0\n",
       "dtype: int64"
      ]
     },
     "execution_count": 7,
     "metadata": {},
     "output_type": "execute_result"
    }
   ],
   "source": [
    "df.isnull().sum()"
   ]
  },
  {
   "cell_type": "markdown",
   "id": "4ec30b2c",
   "metadata": {},
   "source": [
    "- As we can see there is no null values present in the dataset."
   ]
  },
  {
   "cell_type": "code",
   "execution_count": 8,
   "id": "21836dd0",
   "metadata": {},
   "outputs": [
    {
     "data": {
      "text/plain": [
       "100000"
      ]
     },
     "execution_count": 8,
     "metadata": {},
     "output_type": "execute_result"
    }
   ],
   "source": [
    "df['Name'].nunique()"
   ]
  },
  {
   "cell_type": "markdown",
   "id": "cd225d51",
   "metadata": {},
   "source": [
    "- As we can see all the values of Name column are unique"
   ]
  },
  {
   "cell_type": "code",
   "execution_count": 9,
   "id": "e11a8b54",
   "metadata": {},
   "outputs": [],
   "source": [
    "# We don't need CustomerID and name feature so I am deleting that\n",
    "df=df.drop(columns=['CustomerID','Name'],axis = 1)"
   ]
  },
  {
   "cell_type": "code",
   "execution_count": 10,
   "id": "cea36fe8",
   "metadata": {},
   "outputs": [
    {
     "data": {
      "text/plain": [
       "<AxesSubplot:>"
      ]
     },
     "execution_count": 10,
     "metadata": {},
     "output_type": "execute_result"
    },
    {
     "data": {
      "image/png": "[encoded data removed]",
      "text/plain": [
       "<Figure size 640x480 with 1 Axes>"
      ]
     },
     "metadata": {},
     "output_type": "display_data"
    }
   ],
   "source": [
    "# Creating a box plot to cheack for outliers\n",
    "df.boxplot()\n"
   ]
  },
  {
   "cell_type": "markdown",
   "id": "33c5a05e",
   "metadata": {},
   "source": [
    "- As we can see there is no outliers present in the dataframe"
   ]
  },
  {
   "cell_type": "code",
   "execution_count": null,
   "id": "e627346f",
   "metadata": {},
   "outputs": [],
   "source": []
  },
  {
   "cell_type": "code",
   "execution_count": 11,
   "id": "55e4e154",
   "metadata": {},
   "outputs": [],
   "source": [
    "def cat_summary(dataframe, col_name):\n",
    "    print(pd.DataFrame({col_name: dataframe[col_name].value_counts(),\n",
    "                        \"Ratio\": 100 * dataframe[col_name].value_counts() / len(dataframe)}))"
   ]
  },
  {
   "cell_type": "code",
   "execution_count": 12,
   "id": "e9af14c5",
   "metadata": {},
   "outputs": [
    {
     "name": "stdout",
     "output_type": "stream",
     "text": [
      "             Location   Ratio\n",
      "Houston         20157  20.157\n",
      "Los Angeles     20041  20.041\n",
      "Miami           20031  20.031\n",
      "Chicago         19958  19.958\n",
      "New York        19813  19.813\n"
     ]
    }
   ],
   "source": [
    "cat_summary(df,'Location')"
   ]
  },
  {
   "cell_type": "markdown",
   "id": "5ba68195",
   "metadata": {},
   "source": [
    "- As we can see approximately same data of each location present in the dataframe."
   ]
  },
  {
   "cell_type": "markdown",
   "id": "f272d6ff",
   "metadata": {},
   "source": [
    " # EDA"
   ]
  },
  {
   "cell_type": "code",
   "execution_count": 13,
   "id": "d9cad5f1",
   "metadata": {},
   "outputs": [
    {
     "data": {
      "image/png": "[encoded data removed]",
      "text/plain": [
       "<Figure size 600x400 with 1 Axes>"
      ]
     },
     "metadata": {},
     "output_type": "display_data"
    }
   ],
   "source": [
    "# Create a count plot for the 'Gender' column\n",
    "sns.set(style=\"whitegrid\")\n",
    "plt.figure(figsize=(6, 4))\n",
    "sns.countplot(data=df, x='Gender')\n",
    "\n",
    "# Add labels and title\n",
    "plt.xlabel('Gender')\n",
    "plt.ylabel('Count')\n",
    "plt.title('Gender Distribution')\n",
    "\n",
    "# Show the plot\n",
    "plt.show()\n"
   ]
  },
  {
   "cell_type": "code",
   "execution_count": 14,
   "id": "6545fe25",
   "metadata": {},
   "outputs": [
    {
     "data": {
      "image/png": "[encoded data removed]",
      "text/plain": [
       "<Figure size 640x480 with 1 Axes>"
      ]
     },
     "metadata": {},
     "output_type": "display_data"
    }
   ],
   "source": [
    "plt.suptitle('Percentage of Customers in different location')\n",
    "df.groupby('Location')['Location'].count().plot.pie(autopct=\"%1.1f%%\",radius=1.2)\n",
    "plt.show()"
   ]
  },
  {
   "cell_type": "code",
   "execution_count": null,
   "id": "df3ae32e",
   "metadata": {},
   "outputs": [],
   "source": []
  },
  {
   "cell_type": "code",
   "execution_count": 15,
   "id": "4d3cdf1a",
   "metadata": {},
   "outputs": [
    {
     "data": {
      "image/png": "[encoded data removed]",
      "text/plain": [
       "<Figure size 640x480 with 1 Axes>"
      ]
     },
     "metadata": {},
     "output_type": "display_data"
    }
   ],
   "source": [
    "df['Age'].plot(kind='kde')\n",
    "plt.show()"
   ]
  },
  {
   "cell_type": "markdown",
   "id": "ebc0507c",
   "metadata": {},
   "source": [
    "- As we can see most number of customers are from age group of 20 to 70"
   ]
  },
  {
   "cell_type": "code",
   "execution_count": 16,
   "id": "16f85827",
   "metadata": {},
   "outputs": [
    {
     "data": {
      "text/html": [
       "<style type=\"text/css\">\n",
       "#T_8c95b_row0_col0 {\n",
       "  background-color: #fe9f6d;\n",
       "  color: #000000;\n",
       "}\n",
       "#T_8c95b_row1_col0 {\n",
       "  background-color: #8e2a81;\n",
       "  color: #f1f1f1;\n",
       "}\n",
       "#T_8c95b_row2_col0 {\n",
       "  background-color: #e44f64;\n",
       "  color: #f1f1f1;\n",
       "}\n",
       "#T_8c95b_row3_col0 {\n",
       "  background-color: #d5446d;\n",
       "  color: #f1f1f1;\n",
       "}\n",
       "#T_8c95b_row4_col0 {\n",
       "  background-color: #fcfdbf;\n",
       "  color: #000000;\n",
       "}\n",
       "#T_8c95b_row5_col0 {\n",
       "  background-color: #e34e65;\n",
       "  color: #f1f1f1;\n",
       "}\n",
       "#T_8c95b_row6_col0, #T_8c95b_row40_col0 {\n",
       "  background-color: #ef5d5e;\n",
       "  color: #f1f1f1;\n",
       "}\n",
       "#T_8c95b_row7_col0 {\n",
       "  background-color: #f2645c;\n",
       "  color: #f1f1f1;\n",
       "}\n",
       "#T_8c95b_row8_col0 {\n",
       "  background-color: #f1605d;\n",
       "  color: #f1f1f1;\n",
       "}\n",
       "#T_8c95b_row9_col0 {\n",
       "  background-color: #aa337d;\n",
       "  color: #f1f1f1;\n",
       "}\n",
       "#T_8c95b_row10_col0 {\n",
       "  background-color: #ea5661;\n",
       "  color: #f1f1f1;\n",
       "}\n",
       "#T_8c95b_row11_col0 {\n",
       "  background-color: #e55064;\n",
       "  color: #f1f1f1;\n",
       "}\n",
       "#T_8c95b_row12_col0, #T_8c95b_row22_col0 {\n",
       "  background-color: #f05f5e;\n",
       "  color: #f1f1f1;\n",
       "}\n",
       "#T_8c95b_row13_col0 {\n",
       "  background-color: #cf4070;\n",
       "  color: #f1f1f1;\n",
       "}\n",
       "#T_8c95b_row14_col0 {\n",
       "  background-color: #fed597;\n",
       "  color: #000000;\n",
       "}\n",
       "#T_8c95b_row15_col0 {\n",
       "  background-color: #000004;\n",
       "  color: #f1f1f1;\n",
       "}\n",
       "#T_8c95b_row16_col0 {\n",
       "  background-color: #fcecae;\n",
       "  color: #000000;\n",
       "}\n",
       "#T_8c95b_row17_col0 {\n",
       "  background-color: #fd9467;\n",
       "  color: #000000;\n",
       "}\n",
       "#T_8c95b_row18_col0 {\n",
       "  background-color: #f9795d;\n",
       "  color: #f1f1f1;\n",
       "}\n",
       "#T_8c95b_row19_col0 {\n",
       "  background-color: #f3655c;\n",
       "  color: #f1f1f1;\n",
       "}\n",
       "#T_8c95b_row20_col0 {\n",
       "  background-color: #621980;\n",
       "  color: #f1f1f1;\n",
       "}\n",
       "#T_8c95b_row21_col0 {\n",
       "  background-color: #de4968;\n",
       "  color: #f1f1f1;\n",
       "}\n",
       "#T_8c95b_row23_col0 {\n",
       "  background-color: #912b81;\n",
       "  color: #f1f1f1;\n",
       "}\n",
       "#T_8c95b_row24_col0 {\n",
       "  background-color: #a02f7f;\n",
       "  color: #f1f1f1;\n",
       "}\n",
       "#T_8c95b_row25_col0, #T_8c95b_row50_col0 {\n",
       "  background-color: #f7725c;\n",
       "  color: #f1f1f1;\n",
       "}\n",
       "#T_8c95b_row26_col0 {\n",
       "  background-color: #b73779;\n",
       "  color: #f1f1f1;\n",
       "}\n",
       "#T_8c95b_row27_col0 {\n",
       "  background-color: #feb67c;\n",
       "  color: #000000;\n",
       "}\n",
       "#T_8c95b_row28_col0 {\n",
       "  background-color: #f66e5c;\n",
       "  color: #f1f1f1;\n",
       "}\n",
       "#T_8c95b_row29_col0 {\n",
       "  background-color: #fc9065;\n",
       "  color: #000000;\n",
       "}\n",
       "#T_8c95b_row30_col0, #T_8c95b_row35_col0 {\n",
       "  background-color: #d8456c;\n",
       "  color: #f1f1f1;\n",
       "}\n",
       "#T_8c95b_row31_col0 {\n",
       "  background-color: #fb835f;\n",
       "  color: #f1f1f1;\n",
       "}\n",
       "#T_8c95b_row32_col0 {\n",
       "  background-color: #38106c;\n",
       "  color: #f1f1f1;\n",
       "}\n",
       "#T_8c95b_row33_col0 {\n",
       "  background-color: #a1307e;\n",
       "  color: #f1f1f1;\n",
       "}\n",
       "#T_8c95b_row34_col0 {\n",
       "  background-color: #febb81;\n",
       "  color: #000000;\n",
       "}\n",
       "#T_8c95b_row36_col0 {\n",
       "  background-color: #d6456c;\n",
       "  color: #f1f1f1;\n",
       "}\n",
       "#T_8c95b_row37_col0 {\n",
       "  background-color: #d0416f;\n",
       "  color: #f1f1f1;\n",
       "}\n",
       "#T_8c95b_row38_col0 {\n",
       "  background-color: #f2625d;\n",
       "  color: #f1f1f1;\n",
       "}\n",
       "#T_8c95b_row39_col0, #T_8c95b_row45_col0 {\n",
       "  background-color: #8c2981;\n",
       "  color: #f1f1f1;\n",
       "}\n",
       "#T_8c95b_row41_col0 {\n",
       "  background-color: #a3307e;\n",
       "  color: #f1f1f1;\n",
       "}\n",
       "#T_8c95b_row42_col0 {\n",
       "  background-color: #ca3e72;\n",
       "  color: #f1f1f1;\n",
       "}\n",
       "#T_8c95b_row43_col0 {\n",
       "  background-color: #c23b75;\n",
       "  color: #f1f1f1;\n",
       "}\n",
       "#T_8c95b_row44_col0 {\n",
       "  background-color: #f56b5c;\n",
       "  color: #f1f1f1;\n",
       "}\n",
       "#T_8c95b_row46_col0 {\n",
       "  background-color: #fc8e64;\n",
       "  color: #000000;\n",
       "}\n",
       "#T_8c95b_row47_col0 {\n",
       "  background-color: #feaa74;\n",
       "  color: #000000;\n",
       "}\n",
       "#T_8c95b_row48_col0 {\n",
       "  background-color: #ad347c;\n",
       "  color: #f1f1f1;\n",
       "}\n",
       "#T_8c95b_row49_col0 {\n",
       "  background-color: #fdebac;\n",
       "  color: #000000;\n",
       "}\n",
       "#T_8c95b_row51_col0 {\n",
       "  background-color: #bd3977;\n",
       "  color: #f1f1f1;\n",
       "}\n",
       "#T_8c95b_row52_col0 {\n",
       "  background-color: #ae347b;\n",
       "  color: #f1f1f1;\n",
       "}\n",
       "</style>\n",
       "<table id=\"T_8c95b\">\n",
       "  <thead>\n",
       "    <tr>\n",
       "      <th class=\"blank level0\" >&nbsp;</th>\n",
       "      <th id=\"T_8c95b_level0_col0\" class=\"col_heading level0 col0\" >Age</th>\n",
       "    </tr>\n",
       "  </thead>\n",
       "  <tbody>\n",
       "    <tr>\n",
       "      <th id=\"T_8c95b_level0_row0\" class=\"row_heading level0 row0\" >18</th>\n",
       "      <td id=\"T_8c95b_row0_col0\" class=\"data row0 col0\" >1839</td>\n",
       "    </tr>\n",
       "    <tr>\n",
       "      <th id=\"T_8c95b_level0_row1\" class=\"row_heading level0 row1\" >19</th>\n",
       "      <td id=\"T_8c95b_row1_col0\" class=\"data row1 col0\" >1941</td>\n",
       "    </tr>\n",
       "    <tr>\n",
       "      <th id=\"T_8c95b_level0_row2\" class=\"row_heading level0 row2\" >20</th>\n",
       "      <td id=\"T_8c95b_row2_col0\" class=\"data row2 col0\" >1886</td>\n",
       "    </tr>\n",
       "    <tr>\n",
       "      <th id=\"T_8c95b_level0_row3\" class=\"row_heading level0 row3\" >21</th>\n",
       "      <td id=\"T_8c95b_row3_col0\" class=\"data row3 col0\" >1897</td>\n",
       "    </tr>\n",
       "    <tr>\n",
       "      <th id=\"T_8c95b_level0_row4\" class=\"row_heading level0 row4\" >22</th>\n",
       "      <td id=\"T_8c95b_row4_col0\" class=\"data row4 col0\" >1787</td>\n",
       "    </tr>\n",
       "    <tr>\n",
       "      <th id=\"T_8c95b_level0_row5\" class=\"row_heading level0 row5\" >23</th>\n",
       "      <td id=\"T_8c95b_row5_col0\" class=\"data row5 col0\" >1887</td>\n",
       "    </tr>\n",
       "    <tr>\n",
       "      <th id=\"T_8c95b_level0_row6\" class=\"row_heading level0 row6\" >24</th>\n",
       "      <td id=\"T_8c95b_row6_col0\" class=\"data row6 col0\" >1876</td>\n",
       "    </tr>\n",
       "    <tr>\n",
       "      <th id=\"T_8c95b_level0_row7\" class=\"row_heading level0 row7\" >25</th>\n",
       "      <td id=\"T_8c95b_row7_col0\" class=\"data row7 col0\" >1871</td>\n",
       "    </tr>\n",
       "    <tr>\n",
       "      <th id=\"T_8c95b_level0_row8\" class=\"row_heading level0 row8\" >26</th>\n",
       "      <td id=\"T_8c95b_row8_col0\" class=\"data row8 col0\" >1874</td>\n",
       "    </tr>\n",
       "    <tr>\n",
       "      <th id=\"T_8c95b_level0_row9\" class=\"row_heading level0 row9\" >27</th>\n",
       "      <td id=\"T_8c95b_row9_col0\" class=\"data row9 col0\" >1924</td>\n",
       "    </tr>\n",
       "    <tr>\n",
       "      <th id=\"T_8c95b_level0_row10\" class=\"row_heading level0 row10\" >28</th>\n",
       "      <td id=\"T_8c95b_row10_col0\" class=\"data row10 col0\" >1881</td>\n",
       "    </tr>\n",
       "    <tr>\n",
       "      <th id=\"T_8c95b_level0_row11\" class=\"row_heading level0 row11\" >29</th>\n",
       "      <td id=\"T_8c95b_row11_col0\" class=\"data row11 col0\" >1885</td>\n",
       "    </tr>\n",
       "    <tr>\n",
       "      <th id=\"T_8c95b_level0_row12\" class=\"row_heading level0 row12\" >30</th>\n",
       "      <td id=\"T_8c95b_row12_col0\" class=\"data row12 col0\" >1875</td>\n",
       "    </tr>\n",
       "    <tr>\n",
       "      <th id=\"T_8c95b_level0_row13\" class=\"row_heading level0 row13\" >31</th>\n",
       "      <td id=\"T_8c95b_row13_col0\" class=\"data row13 col0\" >1901</td>\n",
       "    </tr>\n",
       "    <tr>\n",
       "      <th id=\"T_8c95b_level0_row14\" class=\"row_heading level0 row14\" >32</th>\n",
       "      <td id=\"T_8c95b_row14_col0\" class=\"data row14 col0\" >1810</td>\n",
       "    </tr>\n",
       "    <tr>\n",
       "      <th id=\"T_8c95b_level0_row15\" class=\"row_heading level0 row15\" >33</th>\n",
       "      <td id=\"T_8c95b_row15_col0\" class=\"data row15 col0\" >2046</td>\n",
       "    </tr>\n",
       "    <tr>\n",
       "      <th id=\"T_8c95b_level0_row16\" class=\"row_heading level0 row16\" >34</th>\n",
       "      <td id=\"T_8c95b_row16_col0\" class=\"data row16 col0\" >1797</td>\n",
       "    </tr>\n",
       "    <tr>\n",
       "      <th id=\"T_8c95b_level0_row17\" class=\"row_heading level0 row17\" >35</th>\n",
       "      <td id=\"T_8c95b_row17_col0\" class=\"data row17 col0\" >1845</td>\n",
       "    </tr>\n",
       "    <tr>\n",
       "      <th id=\"T_8c95b_level0_row18\" class=\"row_heading level0 row18\" >36</th>\n",
       "      <td id=\"T_8c95b_row18_col0\" class=\"data row18 col0\" >1859</td>\n",
       "    </tr>\n",
       "    <tr>\n",
       "      <th id=\"T_8c95b_level0_row19\" class=\"row_heading level0 row19\" >37</th>\n",
       "      <td id=\"T_8c95b_row19_col0\" class=\"data row19 col0\" >1870</td>\n",
       "    </tr>\n",
       "    <tr>\n",
       "      <th id=\"T_8c95b_level0_row20\" class=\"row_heading level0 row20\" >38</th>\n",
       "      <td id=\"T_8c95b_row20_col0\" class=\"data row20 col0\" >1970</td>\n",
       "    </tr>\n",
       "    <tr>\n",
       "      <th id=\"T_8c95b_level0_row21\" class=\"row_heading level0 row21\" >39</th>\n",
       "      <td id=\"T_8c95b_row21_col0\" class=\"data row21 col0\" >1891</td>\n",
       "    </tr>\n",
       "    <tr>\n",
       "      <th id=\"T_8c95b_level0_row22\" class=\"row_heading level0 row22\" >40</th>\n",
       "      <td id=\"T_8c95b_row22_col0\" class=\"data row22 col0\" >1875</td>\n",
       "    </tr>\n",
       "    <tr>\n",
       "      <th id=\"T_8c95b_level0_row23\" class=\"row_heading level0 row23\" >41</th>\n",
       "      <td id=\"T_8c95b_row23_col0\" class=\"data row23 col0\" >1939</td>\n",
       "    </tr>\n",
       "    <tr>\n",
       "      <th id=\"T_8c95b_level0_row24\" class=\"row_heading level0 row24\" >42</th>\n",
       "      <td id=\"T_8c95b_row24_col0\" class=\"data row24 col0\" >1930</td>\n",
       "    </tr>\n",
       "    <tr>\n",
       "      <th id=\"T_8c95b_level0_row25\" class=\"row_heading level0 row25\" >43</th>\n",
       "      <td id=\"T_8c95b_row25_col0\" class=\"data row25 col0\" >1863</td>\n",
       "    </tr>\n",
       "    <tr>\n",
       "      <th id=\"T_8c95b_level0_row26\" class=\"row_heading level0 row26\" >44</th>\n",
       "      <td id=\"T_8c95b_row26_col0\" class=\"data row26 col0\" >1916</td>\n",
       "    </tr>\n",
       "    <tr>\n",
       "      <th id=\"T_8c95b_level0_row27\" class=\"row_heading level0 row27\" >45</th>\n",
       "      <td id=\"T_8c95b_row27_col0\" class=\"data row27 col0\" >1827</td>\n",
       "    </tr>\n",
       "    <tr>\n",
       "      <th id=\"T_8c95b_level0_row28\" class=\"row_heading level0 row28\" >46</th>\n",
       "      <td id=\"T_8c95b_row28_col0\" class=\"data row28 col0\" >1865</td>\n",
       "    </tr>\n",
       "    <tr>\n",
       "      <th id=\"T_8c95b_level0_row29\" class=\"row_heading level0 row29\" >47</th>\n",
       "      <td id=\"T_8c95b_row29_col0\" class=\"data row29 col0\" >1847</td>\n",
       "    </tr>\n",
       "    <tr>\n",
       "      <th id=\"T_8c95b_level0_row30\" class=\"row_heading level0 row30\" >48</th>\n",
       "      <td id=\"T_8c95b_row30_col0\" class=\"data row30 col0\" >1895</td>\n",
       "    </tr>\n",
       "    <tr>\n",
       "      <th id=\"T_8c95b_level0_row31\" class=\"row_heading level0 row31\" >49</th>\n",
       "      <td id=\"T_8c95b_row31_col0\" class=\"data row31 col0\" >1854</td>\n",
       "    </tr>\n",
       "    <tr>\n",
       "      <th id=\"T_8c95b_level0_row32\" class=\"row_heading level0 row32\" >50</th>\n",
       "      <td id=\"T_8c95b_row32_col0\" class=\"data row32 col0\" >1996</td>\n",
       "    </tr>\n",
       "    <tr>\n",
       "      <th id=\"T_8c95b_level0_row33\" class=\"row_heading level0 row33\" >51</th>\n",
       "      <td id=\"T_8c95b_row33_col0\" class=\"data row33 col0\" >1929</td>\n",
       "    </tr>\n",
       "    <tr>\n",
       "      <th id=\"T_8c95b_level0_row34\" class=\"row_heading level0 row34\" >52</th>\n",
       "      <td id=\"T_8c95b_row34_col0\" class=\"data row34 col0\" >1824</td>\n",
       "    </tr>\n",
       "    <tr>\n",
       "      <th id=\"T_8c95b_level0_row35\" class=\"row_heading level0 row35\" >53</th>\n",
       "      <td id=\"T_8c95b_row35_col0\" class=\"data row35 col0\" >1895</td>\n",
       "    </tr>\n",
       "    <tr>\n",
       "      <th id=\"T_8c95b_level0_row36\" class=\"row_heading level0 row36\" >54</th>\n",
       "      <td id=\"T_8c95b_row36_col0\" class=\"data row36 col0\" >1896</td>\n",
       "    </tr>\n",
       "    <tr>\n",
       "      <th id=\"T_8c95b_level0_row37\" class=\"row_heading level0 row37\" >55</th>\n",
       "      <td id=\"T_8c95b_row37_col0\" class=\"data row37 col0\" >1900</td>\n",
       "    </tr>\n",
       "    <tr>\n",
       "      <th id=\"T_8c95b_level0_row38\" class=\"row_heading level0 row38\" >56</th>\n",
       "      <td id=\"T_8c95b_row38_col0\" class=\"data row38 col0\" >1872</td>\n",
       "    </tr>\n",
       "    <tr>\n",
       "      <th id=\"T_8c95b_level0_row39\" class=\"row_heading level0 row39\" >57</th>\n",
       "      <td id=\"T_8c95b_row39_col0\" class=\"data row39 col0\" >1942</td>\n",
       "    </tr>\n",
       "    <tr>\n",
       "      <th id=\"T_8c95b_level0_row40\" class=\"row_heading level0 row40\" >58</th>\n",
       "      <td id=\"T_8c95b_row40_col0\" class=\"data row40 col0\" >1876</td>\n",
       "    </tr>\n",
       "    <tr>\n",
       "      <th id=\"T_8c95b_level0_row41\" class=\"row_heading level0 row41\" >59</th>\n",
       "      <td id=\"T_8c95b_row41_col0\" class=\"data row41 col0\" >1928</td>\n",
       "    </tr>\n",
       "    <tr>\n",
       "      <th id=\"T_8c95b_level0_row42\" class=\"row_heading level0 row42\" >60</th>\n",
       "      <td id=\"T_8c95b_row42_col0\" class=\"data row42 col0\" >1904</td>\n",
       "    </tr>\n",
       "    <tr>\n",
       "      <th id=\"T_8c95b_level0_row43\" class=\"row_heading level0 row43\" >61</th>\n",
       "      <td id=\"T_8c95b_row43_col0\" class=\"data row43 col0\" >1909</td>\n",
       "    </tr>\n",
       "    <tr>\n",
       "      <th id=\"T_8c95b_level0_row44\" class=\"row_heading level0 row44\" >62</th>\n",
       "      <td id=\"T_8c95b_row44_col0\" class=\"data row44 col0\" >1867</td>\n",
       "    </tr>\n",
       "    <tr>\n",
       "      <th id=\"T_8c95b_level0_row45\" class=\"row_heading level0 row45\" >63</th>\n",
       "      <td id=\"T_8c95b_row45_col0\" class=\"data row45 col0\" >1942</td>\n",
       "    </tr>\n",
       "    <tr>\n",
       "      <th id=\"T_8c95b_level0_row46\" class=\"row_heading level0 row46\" >64</th>\n",
       "      <td id=\"T_8c95b_row46_col0\" class=\"data row46 col0\" >1848</td>\n",
       "    </tr>\n",
       "    <tr>\n",
       "      <th id=\"T_8c95b_level0_row47\" class=\"row_heading level0 row47\" >65</th>\n",
       "      <td id=\"T_8c95b_row47_col0\" class=\"data row47 col0\" >1833</td>\n",
       "    </tr>\n",
       "    <tr>\n",
       "      <th id=\"T_8c95b_level0_row48\" class=\"row_heading level0 row48\" >66</th>\n",
       "      <td id=\"T_8c95b_row48_col0\" class=\"data row48 col0\" >1922</td>\n",
       "    </tr>\n",
       "    <tr>\n",
       "      <th id=\"T_8c95b_level0_row49\" class=\"row_heading level0 row49\" >67</th>\n",
       "      <td id=\"T_8c95b_row49_col0\" class=\"data row49 col0\" >1798</td>\n",
       "    </tr>\n",
       "    <tr>\n",
       "      <th id=\"T_8c95b_level0_row50\" class=\"row_heading level0 row50\" >68</th>\n",
       "      <td id=\"T_8c95b_row50_col0\" class=\"data row50 col0\" >1863</td>\n",
       "    </tr>\n",
       "    <tr>\n",
       "      <th id=\"T_8c95b_level0_row51\" class=\"row_heading level0 row51\" >69</th>\n",
       "      <td id=\"T_8c95b_row51_col0\" class=\"data row51 col0\" >1912</td>\n",
       "    </tr>\n",
       "    <tr>\n",
       "      <th id=\"T_8c95b_level0_row52\" class=\"row_heading level0 row52\" >70</th>\n",
       "      <td id=\"T_8c95b_row52_col0\" class=\"data row52 col0\" >1921</td>\n",
       "    </tr>\n",
       "  </tbody>\n",
       "</table>\n"
      ],
      "text/plain": [
       "<pandas.io.formats.style.Styler at 0x184fc75dc10>"
      ]
     },
     "execution_count": 16,
     "metadata": {},
     "output_type": "execute_result"
    }
   ],
   "source": [
    "a=pd.DataFrame(df.Age.value_counts().sort_index()).style.background_gradient('magma_r')\n",
    "a"
   ]
  },
  {
   "cell_type": "code",
   "execution_count": 17,
   "id": "5f66ea4a",
   "metadata": {},
   "outputs": [
    {
     "data": {
      "text/plain": [
       "count    100000.000000\n",
       "mean         44.027020\n",
       "std          15.280283\n",
       "min          18.000000\n",
       "25%          31.000000\n",
       "50%          44.000000\n",
       "75%          57.000000\n",
       "max          70.000000\n",
       "Name: Age, dtype: float64"
      ]
     },
     "execution_count": 17,
     "metadata": {},
     "output_type": "execute_result"
    }
   ],
   "source": [
    "df['Age'].describe()"
   ]
  },
  {
   "cell_type": "code",
   "execution_count": 18,
   "id": "41511dcc",
   "metadata": {},
   "outputs": [
    {
     "data": {
      "text/plain": [
       "0    33\n",
       "Name: Age, dtype: int64"
      ]
     },
     "execution_count": 18,
     "metadata": {},
     "output_type": "execute_result"
    }
   ],
   "source": [
    "df['Age'].mode()"
   ]
  },
  {
   "cell_type": "markdown",
   "id": "e8fbfcfe",
   "metadata": {},
   "source": [
    "- Above Information We can say that data's are Positively skewed / right skewed\n",
    "- We can observe that Minmum Customer's age is 18 years\n",
    "- Maximum Customer's age is 70 years"
   ]
  },
  {
   "cell_type": "code",
   "execution_count": 19,
   "id": "401aadf2",
   "metadata": {},
   "outputs": [
    {
     "data": {
      "image/png": "[encoded data removed]",
      "text/plain": [
       "<Figure size 640x480 with 1 Axes>"
      ]
     },
     "metadata": {},
     "output_type": "display_data"
    }
   ],
   "source": [
    "df['Subscription_Length_Months'].plot(kind ='kde')\n",
    "plt.show()"
   ]
  },
  {
   "cell_type": "code",
   "execution_count": 20,
   "id": "c73fc29c",
   "metadata": {},
   "outputs": [
    {
     "data": {
      "text/html": [
       "<style type=\"text/css\">\n",
       "#T_915b9_row0_col0 {\n",
       "  background-color: #491078;\n",
       "  color: #f1f1f1;\n",
       "}\n",
       "#T_915b9_row1_col0 {\n",
       "  background-color: #6a1c81;\n",
       "  color: #f1f1f1;\n",
       "}\n",
       "#T_915b9_row2_col0 {\n",
       "  background-color: #f66e5c;\n",
       "  color: #f1f1f1;\n",
       "}\n",
       "#T_915b9_row3_col0 {\n",
       "  background-color: #febb81;\n",
       "  color: #000000;\n",
       "}\n",
       "#T_915b9_row4_col0, #T_915b9_row17_col0 {\n",
       "  background-color: #cc3f71;\n",
       "  color: #f1f1f1;\n",
       "}\n",
       "#T_915b9_row5_col0 {\n",
       "  background-color: #b5367a;\n",
       "  color: #f1f1f1;\n",
       "}\n",
       "#T_915b9_row6_col0 {\n",
       "  background-color: #862781;\n",
       "  color: #f1f1f1;\n",
       "}\n",
       "#T_915b9_row7_col0, #T_915b9_row18_col0 {\n",
       "  background-color: #feac76;\n",
       "  color: #000000;\n",
       "}\n",
       "#T_915b9_row8_col0 {\n",
       "  background-color: #f8745c;\n",
       "  color: #f1f1f1;\n",
       "}\n",
       "#T_915b9_row9_col0 {\n",
       "  background-color: #e95462;\n",
       "  color: #f1f1f1;\n",
       "}\n",
       "#T_915b9_row10_col0 {\n",
       "  background-color: #992d80;\n",
       "  color: #f1f1f1;\n",
       "}\n",
       "#T_915b9_row11_col0 {\n",
       "  background-color: #e44f64;\n",
       "  color: #f1f1f1;\n",
       "}\n",
       "#T_915b9_row12_col0, #T_915b9_row20_col0 {\n",
       "  background-color: #e55064;\n",
       "  color: #f1f1f1;\n",
       "}\n",
       "#T_915b9_row13_col0 {\n",
       "  background-color: #832681;\n",
       "  color: #f1f1f1;\n",
       "}\n",
       "#T_915b9_row14_col0 {\n",
       "  background-color: #fc8a62;\n",
       "  color: #f1f1f1;\n",
       "}\n",
       "#T_915b9_row15_col0 {\n",
       "  background-color: #681c81;\n",
       "  color: #f1f1f1;\n",
       "}\n",
       "#T_915b9_row16_col0 {\n",
       "  background-color: #fcfdbf;\n",
       "  color: #000000;\n",
       "}\n",
       "#T_915b9_row19_col0 {\n",
       "  background-color: #000004;\n",
       "  color: #f1f1f1;\n",
       "}\n",
       "#T_915b9_row21_col0 {\n",
       "  background-color: #251255;\n",
       "  color: #f1f1f1;\n",
       "}\n",
       "#T_915b9_row22_col0 {\n",
       "  background-color: #fed89a;\n",
       "  color: #000000;\n",
       "}\n",
       "#T_915b9_row23_col0 {\n",
       "  background-color: #fe9d6c;\n",
       "  color: #000000;\n",
       "}\n",
       "</style>\n",
       "<table id=\"T_915b9\">\n",
       "  <thead>\n",
       "    <tr>\n",
       "      <th class=\"blank level0\" >&nbsp;</th>\n",
       "      <th id=\"T_915b9_level0_col0\" class=\"col_heading level0 col0\" >Subscription_Length_Months</th>\n",
       "    </tr>\n",
       "  </thead>\n",
       "  <tbody>\n",
       "    <tr>\n",
       "      <th id=\"T_915b9_level0_row0\" class=\"row_heading level0 row0\" >1</th>\n",
       "      <td id=\"T_915b9_row0_col0\" class=\"data row0 col0\" >4247</td>\n",
       "    </tr>\n",
       "    <tr>\n",
       "      <th id=\"T_915b9_level0_row1\" class=\"row_heading level0 row1\" >2</th>\n",
       "      <td id=\"T_915b9_row1_col0\" class=\"data row1 col0\" >4228</td>\n",
       "    </tr>\n",
       "    <tr>\n",
       "      <th id=\"T_915b9_level0_row2\" class=\"row_heading level0 row2\" >3</th>\n",
       "      <td id=\"T_915b9_row2_col0\" class=\"data row2 col0\" >4136</td>\n",
       "    </tr>\n",
       "    <tr>\n",
       "      <th id=\"T_915b9_level0_row3\" class=\"row_heading level0 row3\" >4</th>\n",
       "      <td id=\"T_915b9_row3_col0\" class=\"data row3 col0\" >4098</td>\n",
       "    </tr>\n",
       "    <tr>\n",
       "      <th id=\"T_915b9_level0_row4\" class=\"row_heading level0 row4\" >5</th>\n",
       "      <td id=\"T_915b9_row4_col0\" class=\"data row4 col0\" >4171</td>\n",
       "    </tr>\n",
       "    <tr>\n",
       "      <th id=\"T_915b9_level0_row5\" class=\"row_heading level0 row5\" >6</th>\n",
       "      <td id=\"T_915b9_row5_col0\" class=\"data row5 col0\" >4184</td>\n",
       "    </tr>\n",
       "    <tr>\n",
       "      <th id=\"T_915b9_level0_row6\" class=\"row_heading level0 row6\" >7</th>\n",
       "      <td id=\"T_915b9_row6_col0\" class=\"data row6 col0\" >4211</td>\n",
       "    </tr>\n",
       "    <tr>\n",
       "      <th id=\"T_915b9_level0_row7\" class=\"row_heading level0 row7\" >8</th>\n",
       "      <td id=\"T_915b9_row7_col0\" class=\"data row7 col0\" >4106</td>\n",
       "    </tr>\n",
       "    <tr>\n",
       "      <th id=\"T_915b9_level0_row8\" class=\"row_heading level0 row8\" >9</th>\n",
       "      <td id=\"T_915b9_row8_col0\" class=\"data row8 col0\" >4134</td>\n",
       "    </tr>\n",
       "    <tr>\n",
       "      <th id=\"T_915b9_level0_row9\" class=\"row_heading level0 row9\" >10</th>\n",
       "      <td id=\"T_915b9_row9_col0\" class=\"data row9 col0\" >4151</td>\n",
       "    </tr>\n",
       "    <tr>\n",
       "      <th id=\"T_915b9_level0_row10\" class=\"row_heading level0 row10\" >11</th>\n",
       "      <td id=\"T_915b9_row10_col0\" class=\"data row10 col0\" >4200</td>\n",
       "    </tr>\n",
       "    <tr>\n",
       "      <th id=\"T_915b9_level0_row11\" class=\"row_heading level0 row11\" >12</th>\n",
       "      <td id=\"T_915b9_row11_col0\" class=\"data row11 col0\" >4155</td>\n",
       "    </tr>\n",
       "    <tr>\n",
       "      <th id=\"T_915b9_level0_row12\" class=\"row_heading level0 row12\" >13</th>\n",
       "      <td id=\"T_915b9_row12_col0\" class=\"data row12 col0\" >4154</td>\n",
       "    </tr>\n",
       "    <tr>\n",
       "      <th id=\"T_915b9_level0_row13\" class=\"row_heading level0 row13\" >14</th>\n",
       "      <td id=\"T_915b9_row13_col0\" class=\"data row13 col0\" >4213</td>\n",
       "    </tr>\n",
       "    <tr>\n",
       "      <th id=\"T_915b9_level0_row14\" class=\"row_heading level0 row14\" >15</th>\n",
       "      <td id=\"T_915b9_row14_col0\" class=\"data row14 col0\" >4122</td>\n",
       "    </tr>\n",
       "    <tr>\n",
       "      <th id=\"T_915b9_level0_row15\" class=\"row_heading level0 row15\" >16</th>\n",
       "      <td id=\"T_915b9_row15_col0\" class=\"data row15 col0\" >4229</td>\n",
       "    </tr>\n",
       "    <tr>\n",
       "      <th id=\"T_915b9_level0_row16\" class=\"row_heading level0 row16\" >17</th>\n",
       "      <td id=\"T_915b9_row16_col0\" class=\"data row16 col0\" >4064</td>\n",
       "    </tr>\n",
       "    <tr>\n",
       "      <th id=\"T_915b9_level0_row17\" class=\"row_heading level0 row17\" >18</th>\n",
       "      <td id=\"T_915b9_row17_col0\" class=\"data row17 col0\" >4171</td>\n",
       "    </tr>\n",
       "    <tr>\n",
       "      <th id=\"T_915b9_level0_row18\" class=\"row_heading level0 row18\" >19</th>\n",
       "      <td id=\"T_915b9_row18_col0\" class=\"data row18 col0\" >4106</td>\n",
       "    </tr>\n",
       "    <tr>\n",
       "      <th id=\"T_915b9_level0_row19\" class=\"row_heading level0 row19\" >20</th>\n",
       "      <td id=\"T_915b9_row19_col0\" class=\"data row19 col0\" >4303</td>\n",
       "    </tr>\n",
       "    <tr>\n",
       "      <th id=\"T_915b9_level0_row20\" class=\"row_heading level0 row20\" >21</th>\n",
       "      <td id=\"T_915b9_row20_col0\" class=\"data row20 col0\" >4154</td>\n",
       "    </tr>\n",
       "    <tr>\n",
       "      <th id=\"T_915b9_level0_row21\" class=\"row_heading level0 row21\" >22</th>\n",
       "      <td id=\"T_915b9_row21_col0\" class=\"data row21 col0\" >4267</td>\n",
       "    </tr>\n",
       "    <tr>\n",
       "      <th id=\"T_915b9_level0_row22\" class=\"row_heading level0 row22\" >23</th>\n",
       "      <td id=\"T_915b9_row22_col0\" class=\"data row22 col0\" >4083</td>\n",
       "    </tr>\n",
       "    <tr>\n",
       "      <th id=\"T_915b9_level0_row23\" class=\"row_heading level0 row23\" >24</th>\n",
       "      <td id=\"T_915b9_row23_col0\" class=\"data row23 col0\" >4113</td>\n",
       "    </tr>\n",
       "  </tbody>\n",
       "</table>\n"
      ],
      "text/plain": [
       "<pandas.io.formats.style.Styler at 0x184fcb2b5b0>"
      ]
     },
     "execution_count": 20,
     "metadata": {},
     "output_type": "execute_result"
    }
   ],
   "source": [
    "pd.DataFrame(df['Subscription_Length_Months'].value_counts().sort_index()).style.background_gradient('magma_r')"
   ]
  },
  {
   "cell_type": "code",
   "execution_count": 21,
   "id": "45fc3d26",
   "metadata": {},
   "outputs": [
    {
     "data": {
      "text/plain": [
       "count    100000.000000\n",
       "mean         12.490100\n",
       "std           6.926461\n",
       "min           1.000000\n",
       "25%           6.000000\n",
       "50%          12.000000\n",
       "75%          19.000000\n",
       "max          24.000000\n",
       "Name: Subscription_Length_Months, dtype: float64"
      ]
     },
     "execution_count": 21,
     "metadata": {},
     "output_type": "execute_result"
    }
   ],
   "source": [
    "df['Subscription_Length_Months'].describe()"
   ]
  },
  {
   "cell_type": "code",
   "execution_count": 22,
   "id": "8f475ac4",
   "metadata": {},
   "outputs": [
    {
     "data": {
      "text/plain": [
       "0    20\n",
       "Name: Subscription_Length_Months, dtype: int64"
      ]
     },
     "execution_count": 22,
     "metadata": {},
     "output_type": "execute_result"
    }
   ],
   "source": [
    "df['Subscription_Length_Months'].mode()"
   ]
  },
  {
   "cell_type": "markdown",
   "id": "30420fd1",
   "metadata": {},
   "source": [
    "- From Above Information We can say that data's are Distributed towards Rightside (Positively Skewed)\n",
    "- Minimum Subscription Length is 1 month\n",
    "- Maximum Subscription length is 24 month\n",
    "- Average Subscription Length is for 12 Months"
   ]
  },
  {
   "cell_type": "code",
   "execution_count": null,
   "id": "9e31c93f",
   "metadata": {},
   "outputs": [],
   "source": []
  },
  {
   "cell_type": "code",
   "execution_count": 23,
   "id": "fe9b93cd",
   "metadata": {},
   "outputs": [
    {
     "data": {
      "image/png": "[encoded data removed]",
      "text/plain": [
       "<Figure size 640x480 with 1 Axes>"
      ]
     },
     "metadata": {},
     "output_type": "display_data"
    }
   ],
   "source": [
    "df['Monthly_Bill'].plot(kind ='kde')\n",
    "plt.show()"
   ]
  },
  {
   "cell_type": "code",
   "execution_count": 24,
   "id": "3cb1637a",
   "metadata": {},
   "outputs": [
    {
     "data": {
      "text/plain": [
       "count    100000.000000\n",
       "mean         65.053197\n",
       "std          20.230696\n",
       "min          30.000000\n",
       "25%          47.540000\n",
       "50%          65.010000\n",
       "75%          82.640000\n",
       "max         100.000000\n",
       "Name: Monthly_Bill, dtype: float64"
      ]
     },
     "execution_count": 24,
     "metadata": {},
     "output_type": "execute_result"
    }
   ],
   "source": [
    "df['Monthly_Bill'].describe()"
   ]
  },
  {
   "cell_type": "code",
   "execution_count": 25,
   "id": "0bee2154",
   "metadata": {},
   "outputs": [
    {
     "data": {
      "text/plain": [
       "0    84.37\n",
       "Name: Monthly_Bill, dtype: float64"
      ]
     },
     "execution_count": 25,
     "metadata": {},
     "output_type": "execute_result"
    }
   ],
   "source": [
    "df['Monthly_Bill'].mode()"
   ]
  },
  {
   "cell_type": "markdown",
   "id": "980c3f57",
   "metadata": {},
   "source": [
    "- From Above Information We can say that data's are Distributed towards Rightside (Positively Skewed)\n",
    "\n",
    "- Minimum Monthly bill for Subscriber is around $ 30\n",
    "\n",
    "- Maximum Monthly bill is around $ 100\n",
    "\n",
    "- Average Monthly Bill is Around $ 65"
   ]
  },
  {
   "cell_type": "code",
   "execution_count": null,
   "id": "a885315b",
   "metadata": {},
   "outputs": [],
   "source": []
  },
  {
   "cell_type": "markdown",
   "id": "b4208538",
   "metadata": {},
   "source": [
    "# Bivariant Analysis"
   ]
  },
  {
   "cell_type": "code",
   "execution_count": 26,
   "id": "df4b9fac",
   "metadata": {},
   "outputs": [
    {
     "data": {
      "image/png": "[encoded data removed]",
      "text/plain": [
       "<Figure size 1000x500 with 1 Axes>"
      ]
     },
     "metadata": {},
     "output_type": "display_data"
    }
   ],
   "source": [
    "plt.figure(figsize=(10,5),facecolor='lightgrey')\n",
    "plt.suptitle('Distribution of Age with respect to Churn and Not Churned')\n",
    "a=plt.axes()\n",
    "axes=a.set_facecolor('lightgrey')\n",
    "sns.kdeplot(data=df,x='Age',hue='Churn',fill=True,legend=['not Churnd','churned'],ax=axes)\n",
    "plt.show()"
   ]
  },
  {
   "cell_type": "markdown",
   "id": "d42d99ea",
   "metadata": {},
   "source": [
    "- Customers Who's Age is 19 are more are has less Churn Rate"
   ]
  },
  {
   "cell_type": "code",
   "execution_count": 27,
   "id": "68517c06",
   "metadata": {},
   "outputs": [
    {
     "data": {
      "image/png": "[encoded data removed]",
      "text/plain": [
       "<Figure size 1000x500 with 1 Axes>"
      ]
     },
     "metadata": {},
     "output_type": "display_data"
    }
   ],
   "source": [
    "plt.figure(figsize=(10,5),facecolor='lightgrey')\n",
    "plt.suptitle('Distribution of Subscription_Length_Months with respect to Churn and Not Churned')\n",
    "a=plt.axes()\n",
    "axes=a.set_facecolor('lightgrey')\n",
    "sns.kdeplot(data=df,x='Subscription_Length_Months',hue='Churn',fill=True,legend=['not Churnd','churned'],ax=axes)\n",
    "plt.show()"
   ]
  },
  {
   "cell_type": "markdown",
   "id": "6190f43d",
   "metadata": {},
   "source": [
    "- During First And Last months Churn rate is slightly More In between Months as slighly less Churn rate"
   ]
  },
  {
   "cell_type": "code",
   "execution_count": 28,
   "id": "683f9114",
   "metadata": {},
   "outputs": [
    {
     "data": {
      "image/png": "[encoded data removed]",
      "text/plain": [
       "<Figure size 1000x500 with 1 Axes>"
      ]
     },
     "metadata": {},
     "output_type": "display_data"
    }
   ],
   "source": [
    "plt.figure(figsize=(10,5),facecolor='lightgrey')\n",
    "plt.suptitle('Count of Different Location of Customers With Respect to Churn or Not Churn')\n",
    "a=plt.axes()\n",
    "axes=a.set_facecolor('lightgrey')\n",
    "c=sns.countplot(data=df,x='Churn',hue='Location')\n",
    "new_label=['Not Churned','Churned']\n",
    "c.set_xticklabels(new_label)\n",
    "for label in a.containers:\n",
    "    a.bar_label(label)\n",
    "plt.show()\n"
   ]
  },
  {
   "cell_type": "markdown",
   "id": "a095493c",
   "metadata": {},
   "source": [
    "- Houston as most number of Not Churn Customers then other Location's\n",
    "\n",
    "- Miami as most number of Churn Customers compared to other Countries"
   ]
  },
  {
   "cell_type": "code",
   "execution_count": null,
   "id": "d82f5087",
   "metadata": {},
   "outputs": [],
   "source": []
  },
  {
   "cell_type": "code",
   "execution_count": null,
   "id": "dbf09848",
   "metadata": {},
   "outputs": [],
   "source": []
  },
  {
   "cell_type": "code",
   "execution_count": 29,
   "id": "34b1874d",
   "metadata": {},
   "outputs": [],
   "source": [
    "x=[]\n",
    "for i in df['Subscription_Length_Months']:\n",
    "    if i <= 6:\n",
    "        x.append('not good')\n",
    "    elif i <= 12 and i>=6:\n",
    "        x.append('average')\n",
    "    elif i <=18 and i>=12:\n",
    "        x.append('good')\n",
    "    else:\n",
    "        x.append('best')\n"
   ]
  },
  {
   "cell_type": "code",
   "execution_count": 30,
   "id": "92057552",
   "metadata": {},
   "outputs": [],
   "source": [
    "# Creating a new feature Rating derived from Subscription_Length_Months\n",
    "df['Reviews'] = x"
   ]
  },
  {
   "cell_type": "code",
   "execution_count": null,
   "id": "58782316",
   "metadata": {},
   "outputs": [],
   "source": []
  },
  {
   "cell_type": "code",
   "execution_count": 31,
   "id": "b1dcc6e9",
   "metadata": {},
   "outputs": [
    {
     "data": {
      "text/html": [
       "<div>\n",
       "<style scoped>\n",
       "    .dataframe tbody tr th:only-of-type {\n",
       "        vertical-align: middle;\n",
       "    }\n",
       "\n",
       "    .dataframe tbody tr th {\n",
       "        vertical-align: top;\n",
       "    }\n",
       "\n",
       "    .dataframe thead th {\n",
       "        text-align: right;\n",
       "    }\n",
       "</style>\n",
       "<table border=\"1\" class=\"dataframe\">\n",
       "  <thead>\n",
       "    <tr style=\"text-align: right;\">\n",
       "      <th></th>\n",
       "      <th>Age</th>\n",
       "      <th>Gender</th>\n",
       "      <th>Location</th>\n",
       "      <th>Subscription_Length_Months</th>\n",
       "      <th>Monthly_Bill</th>\n",
       "      <th>Total_Usage_GB</th>\n",
       "      <th>Churn</th>\n",
       "      <th>Reviews</th>\n",
       "    </tr>\n",
       "  </thead>\n",
       "  <tbody>\n",
       "    <tr>\n",
       "      <th>0</th>\n",
       "      <td>63</td>\n",
       "      <td>Male</td>\n",
       "      <td>Los Angeles</td>\n",
       "      <td>17</td>\n",
       "      <td>73.36</td>\n",
       "      <td>236</td>\n",
       "      <td>0</td>\n",
       "      <td>good</td>\n",
       "    </tr>\n",
       "    <tr>\n",
       "      <th>1</th>\n",
       "      <td>62</td>\n",
       "      <td>Female</td>\n",
       "      <td>New York</td>\n",
       "      <td>1</td>\n",
       "      <td>48.76</td>\n",
       "      <td>172</td>\n",
       "      <td>0</td>\n",
       "      <td>not good</td>\n",
       "    </tr>\n",
       "    <tr>\n",
       "      <th>2</th>\n",
       "      <td>24</td>\n",
       "      <td>Female</td>\n",
       "      <td>Los Angeles</td>\n",
       "      <td>5</td>\n",
       "      <td>85.47</td>\n",
       "      <td>460</td>\n",
       "      <td>0</td>\n",
       "      <td>not good</td>\n",
       "    </tr>\n",
       "    <tr>\n",
       "      <th>3</th>\n",
       "      <td>36</td>\n",
       "      <td>Female</td>\n",
       "      <td>Miami</td>\n",
       "      <td>3</td>\n",
       "      <td>97.94</td>\n",
       "      <td>297</td>\n",
       "      <td>1</td>\n",
       "      <td>not good</td>\n",
       "    </tr>\n",
       "    <tr>\n",
       "      <th>4</th>\n",
       "      <td>46</td>\n",
       "      <td>Female</td>\n",
       "      <td>Miami</td>\n",
       "      <td>19</td>\n",
       "      <td>58.14</td>\n",
       "      <td>266</td>\n",
       "      <td>0</td>\n",
       "      <td>best</td>\n",
       "    </tr>\n",
       "  </tbody>\n",
       "</table>\n",
       "</div>"
      ],
      "text/plain": [
       "   Age  Gender     Location  Subscription_Length_Months  Monthly_Bill  \\\n",
       "0   63    Male  Los Angeles                          17         73.36   \n",
       "1   62  Female     New York                           1         48.76   \n",
       "2   24  Female  Los Angeles                           5         85.47   \n",
       "3   36  Female        Miami                           3         97.94   \n",
       "4   46  Female        Miami                          19         58.14   \n",
       "\n",
       "   Total_Usage_GB  Churn   Reviews  \n",
       "0             236      0      good  \n",
       "1             172      0  not good  \n",
       "2             460      0  not good  \n",
       "3             297      1  not good  \n",
       "4             266      0      best  "
      ]
     },
     "execution_count": 31,
     "metadata": {},
     "output_type": "execute_result"
    }
   ],
   "source": [
    "df.head()"
   ]
  },
  {
   "cell_type": "code",
   "execution_count": 32,
   "id": "2533a031",
   "metadata": {},
   "outputs": [],
   "source": [
    "# Separating cat and numerical values\n",
    "cat = ['Gender','Location','Reviews']\n",
    "num = ['Age','Subscription_Length_Months','Monthly_Bill','Total_Usage_GB']\n"
   ]
  },
  {
   "cell_type": "code",
   "execution_count": 33,
   "id": "544acd3a",
   "metadata": {},
   "outputs": [],
   "source": [
    "# Spliting the values into train and test\n",
    "x = df[cat + num]\n",
    "y = df['Churn']\n",
    "\n",
    "xtrain,xtest,ytrain,ytest = train_test_split(x,y,\n",
    "                                            test_size=0.3,\n",
    "                                            random_state = 20)"
   ]
  },
  {
   "cell_type": "code",
   "execution_count": 34,
   "id": "b5bb5da3",
   "metadata": {},
   "outputs": [],
   "source": [
    "# Creating a pipeline for Scaling and transformation\n",
    "\n",
    "preprocessor = ColumnTransformer(transformers = [\n",
    "            ('cont_pipeline' , Pipeline([\n",
    "            ( 'cont_scale', StandardScaler()),\n",
    "              \n",
    "            ]), num),\n",
    "            \n",
    "            ('nom_pipeline', Pipeline([\n",
    "            ('nom_encode',OneHotEncoder())\n",
    "            ]),cat),\n",
    "    \n",
    "        \n",
    "],remainder = 'passthrough')\n",
    "\n",
    "xtrain = preprocessor.fit_transform(xtrain)\n",
    "xtest = preprocessor.transform(xtest)"
   ]
  },
  {
   "cell_type": "code",
   "execution_count": null,
   "id": "535f96ae",
   "metadata": {},
   "outputs": [],
   "source": []
  },
  {
   "cell_type": "markdown",
   "id": "76522498",
   "metadata": {},
   "source": [
    "# Building models"
   ]
  },
  {
   "cell_type": "code",
   "execution_count": 37,
   "id": "39672172",
   "metadata": {},
   "outputs": [],
   "source": [
    "# Applying linear Rgression\n",
    "LR = LogisticRegression()\n",
    "LR.fit(xtrain,ytrain)\n",
    "\n",
    "yTrainPred = LR.predict(xtrain)\n",
    "yTestPred = LR.predict(xtest)"
   ]
  },
  {
   "cell_type": "code",
   "execution_count": 42,
   "id": "67bfeb25",
   "metadata": {},
   "outputs": [
    {
     "data": {
      "text/plain": [
       "(0.5052857142857143, 0.49993333333333334)"
      ]
     },
     "execution_count": 42,
     "metadata": {},
     "output_type": "execute_result"
    }
   ],
   "source": [
    "accuracy_score(ytrain, yTrainPred), accuracy_score(ytest, yTestPred)"
   ]
  },
  {
   "cell_type": "code",
   "execution_count": 50,
   "id": "1418b676",
   "metadata": {},
   "outputs": [],
   "source": [
    "# I created a function which will give u the classification_report\n",
    "def Classification_Report(actuals,predicteds):\n",
    "    \n",
    "    f1_scores = []\n",
    "    recalls = []\n",
    "    accuracys = []\n",
    "    precisions = []\n",
    "    \n",
    "    for i in actuals.unique():\n",
    "        tp = 0\n",
    "        fp = 0\n",
    "        fn = 0\n",
    "        \n",
    "        for actual,predicted in zip(actuals,predicteds):\n",
    "            if actual == i and predicted == i:\n",
    "                tp += 1\n",
    "                \n",
    "            elif actual != i and predicted == i:\n",
    "                fp += 1\n",
    "                \n",
    "            elif actual == i and predicted != i:\n",
    "                fn += 1\n",
    "            \n",
    "        precision = tp / (tp + fp) if (tp + fp) > 0 else 0\n",
    "        recall = tp / (tp + fn) if (tp + fn) > 0 else 0\n",
    "        f1_score = 2 * (precision * recall) / (precision + recall) if (precision + recall) > 0 else 0\n",
    "        accuracy = tp/(tp+fp+fn) if (tp+fp+fn) > 0 else 0\n",
    "        \n",
    "        precisions.append(precision)\n",
    "        accuracys.append(accuracy)\n",
    "        recalls.append(recall)\n",
    "        f1_scores.append(f1_score)\n",
    "    \n",
    "    return pd.DataFrame({'Precision':precisions,'Recall':recalls,'f1_score':f1_scores,'Accuracys':accuracys},\n",
    "                       index = actuals.unique())\n",
    "   \n",
    "        "
   ]
  },
  {
   "cell_type": "code",
   "execution_count": 57,
   "id": "43baea0b",
   "metadata": {},
   "outputs": [
    {
     "data": {
      "text/html": [
       "<div>\n",
       "<style scoped>\n",
       "    .dataframe tbody tr th:only-of-type {\n",
       "        vertical-align: middle;\n",
       "    }\n",
       "\n",
       "    .dataframe tbody tr th {\n",
       "        vertical-align: top;\n",
       "    }\n",
       "\n",
       "    .dataframe thead th {\n",
       "        text-align: right;\n",
       "    }\n",
       "</style>\n",
       "<table border=\"1\" class=\"dataframe\">\n",
       "  <thead>\n",
       "    <tr style=\"text-align: right;\">\n",
       "      <th></th>\n",
       "      <th>Precision</th>\n",
       "      <th>Recall</th>\n",
       "      <th>f1_score</th>\n",
       "      <th>Accuracys</th>\n",
       "    </tr>\n",
       "  </thead>\n",
       "  <tbody>\n",
       "    <tr>\n",
       "      <th>0</th>\n",
       "      <td>0.495351</td>\n",
       "      <td>0.508451</td>\n",
       "      <td>0.501815</td>\n",
       "      <td>0.334949</td>\n",
       "    </tr>\n",
       "    <tr>\n",
       "      <th>1</th>\n",
       "      <td>0.489045</td>\n",
       "      <td>0.475961</td>\n",
       "      <td>0.482414</td>\n",
       "      <td>0.317883</td>\n",
       "    </tr>\n",
       "  </tbody>\n",
       "</table>\n",
       "</div>"
      ],
      "text/plain": [
       "   Precision    Recall  f1_score  Accuracys\n",
       "0   0.495351  0.508451  0.501815   0.334949\n",
       "1   0.489045  0.475961  0.482414   0.317883"
      ]
     },
     "execution_count": 57,
     "metadata": {},
     "output_type": "execute_result"
    }
   ],
   "source": [
    "Classification_Report(ytest,yTestPred)"
   ]
  },
  {
   "cell_type": "code",
   "execution_count": 46,
   "id": "f280b81d",
   "metadata": {},
   "outputs": [],
   "source": [
    "# Applying Randomforest\n",
    "rf = RandomForestClassifier()\n",
    "rf.fit(xtrain,ytrain)\n",
    "\n",
    "yTrainPred = rf.predict(xtrain)\n",
    "yTestPred = rf.predict(xtest)"
   ]
  },
  {
   "cell_type": "code",
   "execution_count": 47,
   "id": "dd832208",
   "metadata": {},
   "outputs": [
    {
     "data": {
      "text/plain": [
       "(1.0, 0.4923)"
      ]
     },
     "execution_count": 47,
     "metadata": {},
     "output_type": "execute_result"
    }
   ],
   "source": [
    "accuracy_score(ytrain, yTrainPred), accuracy_score(ytest, yTestPred)"
   ]
  },
  {
   "cell_type": "markdown",
   "id": "97224a14",
   "metadata": {},
   "source": [
    "- As we can see random forest is completely overfitting "
   ]
  },
  {
   "cell_type": "code",
   "execution_count": null,
   "id": "5d2d8820",
   "metadata": {},
   "outputs": [],
   "source": []
  },
  {
   "cell_type": "markdown",
   "id": "57eb773d",
   "metadata": {},
   "source": [
    "## Final MOdel"
   ]
  },
  {
   "cell_type": "code",
   "execution_count": 52,
   "id": "c5ae72ab",
   "metadata": {},
   "outputs": [
    {
     "data": {
      "text/plain": [
       "RandomForestClassifier(max_depth=15, min_samples_split=5, n_estimators=500)"
      ]
     },
     "execution_count": 52,
     "metadata": {},
     "output_type": "execute_result"
    }
   ],
   "source": [
    "\n",
    "RFC = RandomForestClassifier(n_estimators=500,max_depth=15,min_samples_split=5)\n",
    "\n",
    "RFC.fit(xtrain,ytrain)"
   ]
  },
  {
   "cell_type": "code",
   "execution_count": 53,
   "id": "f84c6e22",
   "metadata": {},
   "outputs": [
    {
     "data": {
      "text/plain": [
       "(1.0, 0.4923)"
      ]
     },
     "execution_count": 53,
     "metadata": {},
     "output_type": "execute_result"
    }
   ],
   "source": [
    "accuracy_score(ytrain, yTrainPred), accuracy_score(ytest, yTestPred)"
   ]
  },
  {
   "cell_type": "code",
   "execution_count": 58,
   "id": "23c5a3d6",
   "metadata": {},
   "outputs": [
    {
     "data": {
      "text/html": [
       "<div>\n",
       "<style scoped>\n",
       "    .dataframe tbody tr th:only-of-type {\n",
       "        vertical-align: middle;\n",
       "    }\n",
       "\n",
       "    .dataframe tbody tr th {\n",
       "        vertical-align: top;\n",
       "    }\n",
       "\n",
       "    .dataframe thead th {\n",
       "        text-align: right;\n",
       "    }\n",
       "</style>\n",
       "<table border=\"1\" class=\"dataframe\">\n",
       "  <thead>\n",
       "    <tr style=\"text-align: right;\">\n",
       "      <th></th>\n",
       "      <th>Precision</th>\n",
       "      <th>Recall</th>\n",
       "      <th>f1_score</th>\n",
       "      <th>Accuracys</th>\n",
       "    </tr>\n",
       "  </thead>\n",
       "  <tbody>\n",
       "    <tr>\n",
       "      <th>0</th>\n",
       "      <td>0.495351</td>\n",
       "      <td>0.508451</td>\n",
       "      <td>0.501815</td>\n",
       "      <td>0.334949</td>\n",
       "    </tr>\n",
       "    <tr>\n",
       "      <th>1</th>\n",
       "      <td>0.489045</td>\n",
       "      <td>0.475961</td>\n",
       "      <td>0.482414</td>\n",
       "      <td>0.317883</td>\n",
       "    </tr>\n",
       "  </tbody>\n",
       "</table>\n",
       "</div>"
      ],
      "text/plain": [
       "   Precision    Recall  f1_score  Accuracys\n",
       "0   0.495351  0.508451  0.501815   0.334949\n",
       "1   0.489045  0.475961  0.482414   0.317883"
      ]
     },
     "execution_count": 58,
     "metadata": {},
     "output_type": "execute_result"
    }
   ],
   "source": [
    "Classification_Report(ytest,yTestPred)"
   ]
  },
  {
   "cell_type": "code",
   "execution_count": null,
   "id": "6e89d7e6",
   "metadata": {},
   "outputs": [],
   "source": [
    "# As we can see the performance is not increasing after tuning also"
   ]
  }
 ],
 "metadata": {
  "kernelspec": {
   "display_name": "Python 3 (ipykernel)",
   "language": "python",
   "name": "python3"
  },
  "language_info": {
   "codemirror_mode": {
    "name": "ipython",
    "version": 3
   },
   "file_extension": ".py",
   "mimetype": "text/x-python",
   "name": "python",
   "nbconvert_exporter": "python",
   "pygments_lexer": "ipython3",
   "version": "3.9.13"
  }
 },
 "nbformat": 4,
 "nbformat_minor": 5
}
